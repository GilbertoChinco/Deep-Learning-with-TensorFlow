{
  "nbformat": 4,
  "nbformat_minor": 0,
  "metadata": {
    "colab": {
      "name": "DLTF_01_Introduction_to_TensorFlow.ipynb",
      "provenance": [],
      "collapsed_sections": []
    },
    "kernelspec": {
      "name": "python3",
      "display_name": "Python 3"
    },
    "language_info": {
      "name": "python"
    }
  },
  "cells": [
    {
      "cell_type": "markdown",
      "source": [
        "# Introduction to Tensor Flow\n",
        "\n",
        "1. How does TensorFlow work?\n",
        "2. Building a graph\n",
        "3. What is the meaning of tensor?\n",
        "4. Defining Multidimensional arreys using TensorFlow\n",
        "5. Why Tensors?\n",
        "6. How TensorFlow handles variables?\n",
        "7. What are these placeholders and what do they do?\n",
        "8. Learn operation using TensorFlow"
      ],
      "metadata": {
        "id": "Lb4wdnZhILdo"
      }
    },
    {
      "cell_type": "markdown",
      "source": [
        "### 1. How does TensorFlow work?\n",
        "\n",
        "TensorFlow defines computations as Graphs, when we work with TensorFlow, it is the same as defining a series of operations in a Graph.\n",
        "\n",
        "* Each Operation is a node\n",
        "* Each Tensor is an edge\n",
        "\n",
        "<img src='https://ibm.box.com/shared/static/a94cgezzwbkrq02jzfjjljrcaozu5s2q.png'>"
      ],
      "metadata": {
        "id": "UOMXpQj_IzKi"
      }
    },
    {
      "cell_type": "markdown",
      "source": [
        "Installing TensorFlow"
      ],
      "metadata": {
        "id": "JYFeVJIOJXcs"
      }
    },
    {
      "cell_type": "code",
      "execution_count": 1,
      "metadata": {
        "colab": {
          "base_uri": "https://localhost:8080/"
        },
        "id": "3ok9dSgC7L7S",
        "outputId": "b4ae7bf3-24af-4c12-f86c-cef003771374"
      },
      "outputs": [
        {
          "output_type": "stream",
          "name": "stdout",
          "text": [
            "Collecting grpcio==1.24.3\n",
            "  Downloading grpcio-1.24.3-cp37-cp37m-manylinux2010_x86_64.whl (2.2 MB)\n",
            "\u001b[K     |████████████████████████████████| 2.2 MB 5.1 MB/s \n",
            "\u001b[?25hRequirement already satisfied: six>=1.5.2 in /usr/local/lib/python3.7/dist-packages (from grpcio==1.24.3) (1.15.0)\n",
            "Installing collected packages: grpcio\n",
            "  Attempting uninstall: grpcio\n",
            "    Found existing installation: grpcio 1.44.0\n",
            "    Uninstalling grpcio-1.44.0:\n",
            "      Successfully uninstalled grpcio-1.44.0\n",
            "\u001b[31mERROR: pip's dependency resolver does not currently take into account all the packages that are installed. This behaviour is the source of the following dependency conflicts.\n",
            "tensorflow 2.8.0 requires tf-estimator-nightly==2.8.0.dev2021122109, which is not installed.\u001b[0m\n",
            "Successfully installed grpcio-1.24.3\n",
            "Collecting tensorflow==2.2.0\n",
            "  Downloading tensorflow-2.2.0-cp37-cp37m-manylinux2010_x86_64.whl (516.2 MB)\n",
            "\u001b[K     |████████████████████████████████| 516.2 MB 4.2 kB/s \n",
            "\u001b[?25hRequirement already satisfied: scipy==1.4.1 in /usr/local/lib/python3.7/dist-packages (from tensorflow==2.2.0) (1.4.1)\n",
            "Collecting h5py<2.11.0,>=2.10.0\n",
            "  Downloading h5py-2.10.0-cp37-cp37m-manylinux1_x86_64.whl (2.9 MB)\n",
            "\u001b[K     |████████████████████████████████| 2.9 MB 33.8 MB/s \n",
            "\u001b[?25hRequirement already satisfied: opt-einsum>=2.3.2 in /usr/local/lib/python3.7/dist-packages (from tensorflow==2.2.0) (3.3.0)\n",
            "Requirement already satisfied: wheel>=0.26 in /usr/local/lib/python3.7/dist-packages (from tensorflow==2.2.0) (0.37.1)\n",
            "Requirement already satisfied: termcolor>=1.1.0 in /usr/local/lib/python3.7/dist-packages (from tensorflow==2.2.0) (1.1.0)\n",
            "Requirement already satisfied: numpy<2.0,>=1.16.0 in /usr/local/lib/python3.7/dist-packages (from tensorflow==2.2.0) (1.21.5)\n",
            "Requirement already satisfied: six>=1.12.0 in /usr/local/lib/python3.7/dist-packages (from tensorflow==2.2.0) (1.15.0)\n",
            "Collecting tensorboard<2.3.0,>=2.2.0\n",
            "  Downloading tensorboard-2.2.2-py3-none-any.whl (3.0 MB)\n",
            "\u001b[K     |████████████████████████████████| 3.0 MB 47.4 MB/s \n",
            "\u001b[?25hRequirement already satisfied: protobuf>=3.8.0 in /usr/local/lib/python3.7/dist-packages (from tensorflow==2.2.0) (3.17.3)\n",
            "Requirement already satisfied: astunparse==1.6.3 in /usr/local/lib/python3.7/dist-packages (from tensorflow==2.2.0) (1.6.3)\n",
            "Requirement already satisfied: google-pasta>=0.1.8 in /usr/local/lib/python3.7/dist-packages (from tensorflow==2.2.0) (0.2.0)\n",
            "Requirement already satisfied: keras-preprocessing>=1.1.0 in /usr/local/lib/python3.7/dist-packages (from tensorflow==2.2.0) (1.1.2)\n",
            "Requirement already satisfied: wrapt>=1.11.1 in /usr/local/lib/python3.7/dist-packages (from tensorflow==2.2.0) (1.14.0)\n",
            "Requirement already satisfied: grpcio>=1.8.6 in /usr/local/lib/python3.7/dist-packages (from tensorflow==2.2.0) (1.24.3)\n",
            "Collecting tensorflow-estimator<2.3.0,>=2.2.0\n",
            "  Downloading tensorflow_estimator-2.2.0-py2.py3-none-any.whl (454 kB)\n",
            "\u001b[K     |████████████████████████████████| 454 kB 55.1 MB/s \n",
            "\u001b[?25hCollecting gast==0.3.3\n",
            "  Downloading gast-0.3.3-py2.py3-none-any.whl (9.7 kB)\n",
            "Requirement already satisfied: absl-py>=0.7.0 in /usr/local/lib/python3.7/dist-packages (from tensorflow==2.2.0) (1.0.0)\n",
            "Requirement already satisfied: setuptools>=41.0.0 in /usr/local/lib/python3.7/dist-packages (from tensorboard<2.3.0,>=2.2.0->tensorflow==2.2.0) (57.4.0)\n",
            "Requirement already satisfied: werkzeug>=0.11.15 in /usr/local/lib/python3.7/dist-packages (from tensorboard<2.3.0,>=2.2.0->tensorflow==2.2.0) (1.0.1)\n",
            "Requirement already satisfied: markdown>=2.6.8 in /usr/local/lib/python3.7/dist-packages (from tensorboard<2.3.0,>=2.2.0->tensorflow==2.2.0) (3.3.6)\n",
            "Requirement already satisfied: google-auth-oauthlib<0.5,>=0.4.1 in /usr/local/lib/python3.7/dist-packages (from tensorboard<2.3.0,>=2.2.0->tensorflow==2.2.0) (0.4.6)\n",
            "Requirement already satisfied: requests<3,>=2.21.0 in /usr/local/lib/python3.7/dist-packages (from tensorboard<2.3.0,>=2.2.0->tensorflow==2.2.0) (2.23.0)\n",
            "Requirement already satisfied: tensorboard-plugin-wit>=1.6.0 in /usr/local/lib/python3.7/dist-packages (from tensorboard<2.3.0,>=2.2.0->tensorflow==2.2.0) (1.8.1)\n",
            "Requirement already satisfied: google-auth<2,>=1.6.3 in /usr/local/lib/python3.7/dist-packages (from tensorboard<2.3.0,>=2.2.0->tensorflow==2.2.0) (1.35.0)\n",
            "Requirement already satisfied: rsa<5,>=3.1.4 in /usr/local/lib/python3.7/dist-packages (from google-auth<2,>=1.6.3->tensorboard<2.3.0,>=2.2.0->tensorflow==2.2.0) (4.8)\n",
            "Requirement already satisfied: pyasn1-modules>=0.2.1 in /usr/local/lib/python3.7/dist-packages (from google-auth<2,>=1.6.3->tensorboard<2.3.0,>=2.2.0->tensorflow==2.2.0) (0.2.8)\n",
            "Requirement already satisfied: cachetools<5.0,>=2.0.0 in /usr/local/lib/python3.7/dist-packages (from google-auth<2,>=1.6.3->tensorboard<2.3.0,>=2.2.0->tensorflow==2.2.0) (4.2.4)\n",
            "Requirement already satisfied: requests-oauthlib>=0.7.0 in /usr/local/lib/python3.7/dist-packages (from google-auth-oauthlib<0.5,>=0.4.1->tensorboard<2.3.0,>=2.2.0->tensorflow==2.2.0) (1.3.1)\n",
            "Requirement already satisfied: importlib-metadata>=4.4 in /usr/local/lib/python3.7/dist-packages (from markdown>=2.6.8->tensorboard<2.3.0,>=2.2.0->tensorflow==2.2.0) (4.11.3)\n",
            "Requirement already satisfied: typing-extensions>=3.6.4 in /usr/local/lib/python3.7/dist-packages (from importlib-metadata>=4.4->markdown>=2.6.8->tensorboard<2.3.0,>=2.2.0->tensorflow==2.2.0) (3.10.0.2)\n",
            "Requirement already satisfied: zipp>=0.5 in /usr/local/lib/python3.7/dist-packages (from importlib-metadata>=4.4->markdown>=2.6.8->tensorboard<2.3.0,>=2.2.0->tensorflow==2.2.0) (3.7.0)\n",
            "Requirement already satisfied: pyasn1<0.5.0,>=0.4.6 in /usr/local/lib/python3.7/dist-packages (from pyasn1-modules>=0.2.1->google-auth<2,>=1.6.3->tensorboard<2.3.0,>=2.2.0->tensorflow==2.2.0) (0.4.8)\n",
            "Requirement already satisfied: idna<3,>=2.5 in /usr/local/lib/python3.7/dist-packages (from requests<3,>=2.21.0->tensorboard<2.3.0,>=2.2.0->tensorflow==2.2.0) (2.10)\n",
            "Requirement already satisfied: urllib3!=1.25.0,!=1.25.1,<1.26,>=1.21.1 in /usr/local/lib/python3.7/dist-packages (from requests<3,>=2.21.0->tensorboard<2.3.0,>=2.2.0->tensorflow==2.2.0) (1.24.3)\n",
            "Requirement already satisfied: chardet<4,>=3.0.2 in /usr/local/lib/python3.7/dist-packages (from requests<3,>=2.21.0->tensorboard<2.3.0,>=2.2.0->tensorflow==2.2.0) (3.0.4)\n",
            "Requirement already satisfied: certifi>=2017.4.17 in /usr/local/lib/python3.7/dist-packages (from requests<3,>=2.21.0->tensorboard<2.3.0,>=2.2.0->tensorflow==2.2.0) (2021.10.8)\n",
            "Requirement already satisfied: oauthlib>=3.0.0 in /usr/local/lib/python3.7/dist-packages (from requests-oauthlib>=0.7.0->google-auth-oauthlib<0.5,>=0.4.1->tensorboard<2.3.0,>=2.2.0->tensorflow==2.2.0) (3.2.0)\n",
            "Installing collected packages: tensorflow-estimator, tensorboard, h5py, gast, tensorflow\n",
            "  Attempting uninstall: tensorflow-estimator\n",
            "    Found existing installation: tensorflow-estimator 2.8.0\n",
            "    Uninstalling tensorflow-estimator-2.8.0:\n",
            "      Successfully uninstalled tensorflow-estimator-2.8.0\n",
            "  Attempting uninstall: tensorboard\n",
            "    Found existing installation: tensorboard 2.8.0\n",
            "    Uninstalling tensorboard-2.8.0:\n",
            "      Successfully uninstalled tensorboard-2.8.0\n",
            "  Attempting uninstall: h5py\n",
            "    Found existing installation: h5py 3.1.0\n",
            "    Uninstalling h5py-3.1.0:\n",
            "      Successfully uninstalled h5py-3.1.0\n",
            "  Attempting uninstall: gast\n",
            "    Found existing installation: gast 0.5.3\n",
            "    Uninstalling gast-0.5.3:\n",
            "      Successfully uninstalled gast-0.5.3\n",
            "  Attempting uninstall: tensorflow\n",
            "    Found existing installation: tensorflow 2.8.0\n",
            "    Uninstalling tensorflow-2.8.0:\n",
            "      Successfully uninstalled tensorflow-2.8.0\n",
            "Successfully installed gast-0.3.3 h5py-2.10.0 tensorboard-2.2.2 tensorflow-2.2.0 tensorflow-estimator-2.2.0\n"
          ]
        }
      ],
      "source": [
        "!pip install grpcio==1.24.3\n",
        "!pip install tensorflow==2.2.0"
      ]
    },
    {
      "cell_type": "markdown",
      "source": [
        "Importing TensorFlow"
      ],
      "metadata": {
        "id": "lyNKSnqmJ0cy"
      }
    },
    {
      "cell_type": "code",
      "source": [
        "import tensorflow as tf\n",
        "if not tf.__version__ == '2.2.0':\n",
        "    print(tf.__version__)\n",
        "    raise ValueError('please upgrade to TensorFlow 2.2.0, or restart your Kernel (Kernel->Restart & Clear Output)')"
      ],
      "metadata": {
        "id": "eQtuRWcbJHWj"
      },
      "execution_count": 2,
      "outputs": []
    },
    {
      "cell_type": "markdown",
      "source": [
        "### 2. Building a graph\n",
        " \n",
        "Each Operation `tf.Operation` is a node and each Tensor `tf.Tensor` is an edge in the graph.\n",
        "\n",
        "Let's use `tf.function` and `Autograph`\n",
        "\n",
        "Lets add 2 constants to our graph. For example, calling `tf.constant([2], name = 'constant_a')` adds a single `tf.Operation` to the default graph. This operation produces the value 2, and returns a `tf.Tensor` that represents the value of the constant."
      ],
      "metadata": {
        "id": "c1O7FNEUKJh3"
      }
    },
    {
      "cell_type": "code",
      "source": [
        "a = tf.constant([2])\n",
        "b = tf.constant([3])"
      ],
      "metadata": {
        "id": "31ZpHabnJ4d6"
      },
      "execution_count": 14,
      "outputs": []
    },
    {
      "cell_type": "markdown",
      "source": [
        "Let's look at the tensor \"a\""
      ],
      "metadata": {
        "id": "XhL8mjYQL1Mr"
      }
    },
    {
      "cell_type": "code",
      "source": [
        "a"
      ],
      "metadata": {
        "colab": {
          "base_uri": "https://localhost:8080/"
        },
        "id": "aEggnR-iLzUg",
        "outputId": "32f53e4c-d9b3-40af-ddbc-8c0488053d1e"
      },
      "execution_count": 15,
      "outputs": [
        {
          "output_type": "execute_result",
          "data": {
            "text/plain": [
              "<tf.Tensor: shape=(1,), dtype=int32, numpy=array([2], dtype=int32)>"
            ]
          },
          "metadata": {},
          "execution_count": 15
        }
      ]
    },
    {
      "cell_type": "markdown",
      "source": [
        "it just shows the name, shape and type of the tensor in the graph.\n",
        "\n",
        "Let's see the value by running the TensorFlow code"
      ],
      "metadata": {
        "id": "gKwNaEn7MFiG"
      }
    },
    {
      "cell_type": "code",
      "source": [
        "tf.print(a.numpy()[0])"
      ],
      "metadata": {
        "colab": {
          "base_uri": "https://localhost:8080/"
        },
        "id": "sNfag0q9L5DI",
        "outputId": "3f9ef6f0-7bc9-4b9e-9756-f04b368ea4c1"
      },
      "execution_count": 16,
      "outputs": [
        {
          "output_type": "stream",
          "name": "stdout",
          "text": [
            "2\n"
          ]
        }
      ]
    },
    {
      "cell_type": "markdown",
      "source": [
        "Annotating the python functions with `tf.function` uses TensorFlow Autograph to create a TensorFlow static execution graph for the function. `tf.function` annotation tells TensorFlow Autograph to transform function add into TensorFlow control flow, which then defines the TensorFlow static execution graph."
      ],
      "metadata": {
        "id": "XeR9I_oWMZSx"
      }
    },
    {
      "cell_type": "markdown",
      "source": [
        "Define your operations (In this case our constants and `tf.add`), define a Python function named add and **decorate** it with using the tf.function annotator."
      ],
      "metadata": {
        "id": "sdPHBg_PO3X_"
      }
    },
    {
      "cell_type": "code",
      "source": [
        "@tf.function\n",
        "def add(a,b):\n",
        "    c = tf.add(a, b)  #Sum of the terms\n",
        "    print(c)\n",
        "    return c"
      ],
      "metadata": {
        "id": "ZKv5mpKLL7lY"
      },
      "execution_count": 17,
      "outputs": []
    },
    {
      "cell_type": "code",
      "source": [
        "result = add(a,b)\n",
        "tf.print(result[0])"
      ],
      "metadata": {
        "colab": {
          "base_uri": "https://localhost:8080/"
        },
        "id": "ESJUrigAMosC",
        "outputId": "3a606227-462f-4b08-b063-543648509e40"
      },
      "execution_count": 10,
      "outputs": [
        {
          "output_type": "stream",
          "name": "stdout",
          "text": [
            "Tensor(\"Add:0\", shape=(1,), dtype=int32)\n",
            "5\n"
          ]
        }
      ]
    },
    {
      "cell_type": "markdown",
      "source": [
        "### 3. What is the meaning of tensor?\n",
        "\n",
        "In TensorFlow all data is passed between operations in a computation graph, and these are passed in the form of Tensors.\n",
        "\n",
        "The word tensor from new latin means \"that which stretches\". It is a mathematical object that is named \"tensor\" because an early application of tensors was the study of materials stretching under tension. The contemporary meaning of tensors can be taken as multidimensional arrays.\n",
        "\n",
        "\n",
        "The multidimensional arrays:\n",
        "<br> <img src=\"https://ibm.box.com/shared/static/ymn0hl3hf8s3xb4k15v22y5vmuodnue1.svg\"/>\n",
        "\n",
        "* Zero dimension can be seen as a point, a single object or a single item.\n",
        "\n",
        "* First dimension can be seen as a line, a one-dimensional array can be seen as numbers along this line, or as points along the line. One dimension can contain infinite zero dimension/points elements.\n",
        "\n",
        "* Second dimension can be seen as a surface, a two-dimensional array can be seen as an infinite series of lines along an infinite line.\n",
        "\n",
        "* Third dimension can be seen as volume, a three-dimensional array can be seen as an infinite series of surfaces along an infinite line.\n",
        "\n",
        "* Fourth dimension can be seen as the hyperspace or spacetime, a volume varying through time, or an infinite series of volumes along an infinite line. And so forth on...\n",
        "\n",
        "<img src=\"https://ibm.box.com/shared/static/kmxz570uai8eeg6i6ynqdz6kmlx1m422.png\">"
      ],
      "metadata": {
        "id": "omF9UO4AM5gw"
      }
    },
    {
      "cell_type": "markdown",
      "source": [
        "### 4. Defining Multidimensional arreys using TensorFlow"
      ],
      "metadata": {
        "id": "mymaDbgTNyBY"
      }
    },
    {
      "cell_type": "markdown",
      "source": [
        "Let's try defining arrays using TensorFlow"
      ],
      "metadata": {
        "id": "hREMuEN-N70w"
      }
    },
    {
      "cell_type": "code",
      "source": [
        "scalar = tf.constant(2)\n",
        "vector = tf.constant([5, 6, 2])\n",
        "matrix = tf.constant([[1, 2, 3], [2, 3, 4], [3, 4, 5]])\n",
        "tensor = tf.constant( [ [[1, 2, 3], [2, 3, 4], [3, 4, 5]] , [[4, 5, 6], [5, 6, 7], [6, 7, 8]] , [[7, 8, 9], [8, 9, 10], [9, 10, 11]] ] )\n",
        "\n",
        "print(f\"Scalar (1 entry):\\n {scalar}\\n\")\n",
        "print(f\"Vector (3 entries) :\\n {vector}\\n\")\n",
        "print(f\"Matrix (3x3 entries):\\n {matrix}\\n\")\n",
        "print(f\"Tensor (3x3x3 entries) :\\n {tensor}\\n\")"
      ],
      "metadata": {
        "colab": {
          "base_uri": "https://localhost:8080/"
        },
        "id": "8W7hWkkcMrOY",
        "outputId": "bd4e981c-8e51-4abb-cd93-d70427f5c3ea"
      },
      "execution_count": 13,
      "outputs": [
        {
          "output_type": "stream",
          "name": "stdout",
          "text": [
            "Scalar (1 entry):\n",
            " 2\n",
            "\n",
            "Vector (3 entries) :\n",
            " [5 6 2]\n",
            "\n",
            "Matrix (3x3 entries):\n",
            " [[1 2 3]\n",
            " [2 3 4]\n",
            " [3 4 5]]\n",
            "\n",
            "Tensor (3x3x3 entries) :\n",
            " [[[ 1  2  3]\n",
            "  [ 2  3  4]\n",
            "  [ 3  4  5]]\n",
            "\n",
            " [[ 4  5  6]\n",
            "  [ 5  6  7]\n",
            "  [ 6  7  8]]\n",
            "\n",
            " [[ 7  8  9]\n",
            "  [ 8  9 10]\n",
            "  [ 9 10 11]]]\n",
            "\n"
          ]
        }
      ]
    },
    {
      "cell_type": "markdown",
      "source": [
        "`tf.shape` returns the shape of the structure\n"
      ],
      "metadata": {
        "id": "qlskKf9YPLCQ"
      }
    },
    {
      "cell_type": "code",
      "source": [
        "print(\"The scalar dimension (1 entry):\", scalar.shape)\n",
        "print(\"The vector dimension (3 entries):\", vector.shape)\n",
        "print(\"The matrix dimension (3x3 entries):\", matrix.shape)\n",
        "print(\"The tensor dimension (3x3x3 entries):\", tensor.shape)"
      ],
      "metadata": {
        "colab": {
          "base_uri": "https://localhost:8080/"
        },
        "id": "zxeVVynpOhTJ",
        "outputId": "57b366b2-c9d2-4d49-ffb5-acb3fe806616"
      },
      "execution_count": 26,
      "outputs": [
        {
          "output_type": "stream",
          "name": "stdout",
          "text": [
            "The scalar dimension (1 entry): ()\n",
            "The vector dimension (3 entries): (3,)\n",
            "The matrix dimension (3x3 entries): (3, 3)\n",
            "The tensor dimension (3x3x3 entries): (3, 3, 3)\n"
          ]
        }
      ]
    },
    {
      "cell_type": "code",
      "source": [
        "matrix_one = tf.constant([[1, 2, 3], [2, 3, 4], [3, 4, 5]])\n",
        "matrix_two = tf.constant([[2, 2, 2], [2, 2, 2], [2, 2, 2]])\n",
        "\n",
        "@tf.function\n",
        "def add():\n",
        "    return tf.add(matrix_one, matrix_two) #Sum of the terms\n",
        "\n",
        "print(\"Defined using tensorflow function :\")\n",
        "add_1_operation = add()\n",
        "print(add_1_operation)\n",
        "\n",
        "print(\"\\nDefined using normal expressions :\")\n",
        "add_2_operation = matrix_one + matrix_two\n",
        "print(add_2_operation)"
      ],
      "metadata": {
        "colab": {
          "base_uri": "https://localhost:8080/"
        },
        "id": "oIzih1rcPFcy",
        "outputId": "0db8f2a5-306c-440a-8093-0c58e6af4279"
      },
      "execution_count": 31,
      "outputs": [
        {
          "output_type": "stream",
          "name": "stdout",
          "text": [
            "Defined using tensorflow function :\n",
            "tf.Tensor(\n",
            "[[3 4 5]\n",
            " [4 5 6]\n",
            " [5 6 7]], shape=(3, 3), dtype=int32)\n",
            "\n",
            "Defined using normal expressions :\n",
            "tf.Tensor(\n",
            "[[3 4 5]\n",
            " [4 5 6]\n",
            " [5 6 7]], shape=(3, 3), dtype=int32)\n"
          ]
        }
      ]
    },
    {
      "cell_type": "markdown",
      "source": [
        "With the regular symbol definition and also the TensorFlow function we were able to get an element-wise multiplication, also known as Hadamard product."
      ],
      "metadata": {
        "id": "Fk16YpxMRW7r"
      }
    },
    {
      "cell_type": "markdown",
      "source": [
        "*But what if we want the regular matrix product?*\n",
        "\n",
        "We then need to use another TensorFlow function called `tf.matmul()`"
      ],
      "metadata": {
        "id": "QQ3mfa9FRZFH"
      }
    },
    {
      "cell_type": "code",
      "source": [
        "matrix_one = tf.constant([[2, 3], [3, 4]])\n",
        "matrix_two = tf.constant([[2, 3], [3, 4]])\n",
        "\n",
        "@tf.function\n",
        "def mathmul():\n",
        "  return tf.matmul(matrix_one, matrix_two)\n",
        "\n",
        "mul_operation = mathmul()\n",
        "\n",
        "print (\"Defined using tensorflow function :\")\n",
        "print(mul_operation)"
      ],
      "metadata": {
        "colab": {
          "base_uri": "https://localhost:8080/"
        },
        "id": "3ZpoirmsQNCw",
        "outputId": "7ec0a1a8-93e5-4ba1-dae2-fddb45a49e9e"
      },
      "execution_count": 32,
      "outputs": [
        {
          "output_type": "stream",
          "name": "stdout",
          "text": [
            "Defined using tensorflow function :\n",
            "tf.Tensor(\n",
            "[[13 18]\n",
            " [18 25]], shape=(2, 2), dtype=int32)\n"
          ]
        }
      ]
    },
    {
      "cell_type": "markdown",
      "source": [
        "### 5. Why Tensors?"
      ],
      "metadata": {
        "id": "ngY7hOIrSGeu"
      }
    },
    {
      "cell_type": "markdown",
      "source": [
        "* The Tensor structure helps us by giving the freedom to shape the dataset in the way we want.\n",
        "* it is particularly helpful when dealing with images, due to the nature of how information in images are encoded,"
      ],
      "metadata": {
        "id": "AYFlw_mlSP9I"
      }
    },
    {
      "cell_type": "markdown",
      "source": [
        "### 6. How TensorFlow handles variables?\n",
        "\n",
        "TensorFlow variables are used to share and persist some stats that are manipulated by our program. That is, when you define a variable, TensorFlow adds a tf.Operation to your graph. Then, this operation will store a writable tensor value. So, you can update the value of a variable through each run."
      ],
      "metadata": {
        "id": "rCR0QV9VSWyk"
      }
    },
    {
      "cell_type": "markdown",
      "source": [
        "Let's first create a simple counter, by first initializing a variable v that will be increased one unit at a time:"
      ],
      "metadata": {
        "id": "NFze_WPBSiNN"
      }
    },
    {
      "cell_type": "code",
      "source": [
        "v = tf.Variable(0)"
      ],
      "metadata": {
        "id": "M-3h_yZrRwMl"
      },
      "execution_count": 34,
      "outputs": []
    },
    {
      "cell_type": "markdown",
      "source": [
        "We now create a python method increment_by_one. This method will internally call td.add that takes in two arguments, the reference_variable to update, and assign it to the value_to_update it by."
      ],
      "metadata": {
        "id": "XsOHaECfSs_Z"
      }
    },
    {
      "cell_type": "code",
      "source": [
        "@tf.function\n",
        "def increment_by_one(v):\n",
        "        v = tf.add(v, 1)\n",
        "        return v"
      ],
      "metadata": {
        "id": "txcXP80nSnhP"
      },
      "execution_count": 35,
      "outputs": []
    },
    {
      "cell_type": "markdown",
      "source": [
        "To update the value of the variable v, we simply call the increment_by_one method and pass the variable to it. We will invoke this method thrice. This method will increment the variable by one and print the updated value each time."
      ],
      "metadata": {
        "id": "DvqlTT15S1lz"
      }
    },
    {
      "cell_type": "code",
      "source": [
        "for i in range(3):\n",
        "    v = increment_by_one(v)\n",
        "    print(v)"
      ],
      "metadata": {
        "colab": {
          "base_uri": "https://localhost:8080/"
        },
        "id": "lViRgDNHSxV5",
        "outputId": "6c2935dc-e90b-4663-9c21-f2f00da5cbfb"
      },
      "execution_count": 36,
      "outputs": [
        {
          "output_type": "stream",
          "name": "stdout",
          "text": [
            "tf.Tensor(1, shape=(), dtype=int32)\n",
            "tf.Tensor(2, shape=(), dtype=int32)\n",
            "tf.Tensor(3, shape=(), dtype=int32)\n"
          ]
        }
      ]
    },
    {
      "cell_type": "markdown",
      "source": [
        "### 8. Learn operation using TensorFlow\n",
        "\n",
        "Operations are nodes that represent the mathematical operations over the tensors on a graph. These operations can be any kind of functions, like add and subtract tensor or maybe an activation function.\n",
        "\n",
        "tf.constant, tf.matmul, tf.add, tf.nn.sigmoid are some of the operations in TensorFlow. These are like functions in python but operate directly over tensors and each one does a specific thing."
      ],
      "metadata": {
        "id": "_Fw299K6THqh"
      }
    },
    {
      "cell_type": "code",
      "source": [
        "a = tf.constant([5])\n",
        "b = tf.constant([2])\n",
        "c = tf.add(a,b)\n",
        "d = tf.subtract(a,b)\n",
        "\n",
        "\n",
        "print(f'c =: {c}')\n",
        "print(f'd =: {d}')"
      ],
      "metadata": {
        "colab": {
          "base_uri": "https://localhost:8080/"
        },
        "id": "y7i4RfC0S67X",
        "outputId": "76f25b9e-44a0-46fd-a3d1-ff8843c6ff45"
      },
      "execution_count": 37,
      "outputs": [
        {
          "output_type": "stream",
          "name": "stdout",
          "text": [
            "c =: [7]\n",
            "d =: [3]\n"
          ]
        }
      ]
    },
    {
      "cell_type": "markdown",
      "source": [
        "tf.nn.sigmoid is an activation function, it's a little more complicated, but this function helps learning models to evaluate what kind of information is good or not."
      ],
      "metadata": {
        "id": "qeNJ1YgdTabM"
      }
    }
  ]
}