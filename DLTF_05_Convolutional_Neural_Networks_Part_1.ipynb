{
  "nbformat": 4,
  "nbformat_minor": 0,
  "metadata": {
    "colab": {
      "name": "DLTF_05_Convolutional_Neural_Networks_Part_1.ipynb",
      "provenance": [],
      "collapsed_sections": []
    },
    "kernelspec": {
      "name": "python3",
      "display_name": "Python 3"
    },
    "language_info": {
      "name": "python"
    }
  },
  "cells": [
    {
      "cell_type": "markdown",
      "source": [
        "# Convolutional Neural Networks\n",
        "\n",
        "1. What is deep learning\n",
        "2. Simple test: is TensorFlow working?\n",
        "3. Classify MNIST using a simple model\n",
        "4. Evualating \n",
        "5. How to improve the model?"
      ],
      "metadata": {
        "id": "aZk1-QNyKooU"
      }
    },
    {
      "cell_type": "markdown",
      "source": [
        "### 1. What is Deep Learning\n",
        "\n",
        "Deep learning is a branch of machine learning based on a set of algorithms that attempt to model high-level abstractions in data by using multiple processing layers, with complex structures or otherwise, composed of multiple non-linear transformations.\n",
        "\n",
        "<img src=\"https://ibm.box.com/shared/static/gcbbrh440604cj2nksu3f44be87b8ank.png\" alt=\"HTML5 Icon\" style=\"width: 600px; height: 450px;\">\n",
        "\n",
        "In Practice, defining the term \"Deep\": in this context, deep means that we are studying a Neural Network which has several hidden layers (more than one), no matter what type (convolutional, pooling, normalization, fully-connected etc). The most interesting part is that some papers noticed that Deep Neural Networks with the right architectures/hyper-parameters achieve better results than shallow Neural Networks with the same computational power.\n",
        "\n",
        "\n"
      ],
      "metadata": {
        "id": "4W_rkFGfLTlI"
      }
    },
    {
      "cell_type": "code",
      "execution_count": null,
      "metadata": {
        "id": "yVhy5FfzKeTS"
      },
      "outputs": [],
      "source": [
        "import tensorflow as tf"
      ]
    },
    {
      "cell_type": "markdown",
      "source": [
        "### 3. Classify MNIST using a simple model\n",
        "\n",
        "We are going to create a simple Multi-layer perceptron, a simple type of Neural Network, to perform classification tasks on the MNIST digits dataset.\n",
        "\n",
        "What is MNIST?\n",
        "is a database of handwritten digits that has a training set of 60,000 examples, and a test set of 10,000 examples. It is a subset of a larger set available from NIST. The digits have been size-normalized and centered in a fixed-size image.\n",
        "\n",
        "**Import the MNIST dataset using TensorFlow built-in feature**\n",
        "\n",
        "It's very important to notice that MNIST is a high optimized data-set and it does not contain images. You will need to build your own code if you want to see the real digits. Another important side note is the effort that the authors invested on this data-set with normalization and centering operations.\n",
        "\n"
      ],
      "metadata": {
        "id": "dIfwQHR7MELj"
      }
    },
    {
      "cell_type": "code",
      "source": [
        "mnist = tf.keras.datasets.mnist\n",
        "(x_train, y_train), (x_test, y_test) = mnist.load_data()"
      ],
      "metadata": {
        "id": "ipV07lbpL9vD"
      },
      "execution_count": null,
      "outputs": []
    },
    {
      "cell_type": "markdown",
      "source": [
        "The features data are between 0 and 255, and, let's normalize to improve optimization performance"
      ],
      "metadata": {
        "id": "6uCTBDFFNDCE"
      }
    },
    {
      "cell_type": "code",
      "source": [
        "x_train = x_train / 255\n",
        "x_test = x_test / 255"
      ],
      "metadata": {
        "id": "bwcYBccPNADi"
      },
      "execution_count": null,
      "outputs": []
    },
    {
      "cell_type": "code",
      "source": [
        "print(y_train[0:5])"
      ],
      "metadata": {
        "colab": {
          "base_uri": "https://localhost:8080/"
        },
        "id": "qryXh6NYNUg9",
        "outputId": "d7f3ee0b-ca44-4ca0-f0b0-4f27f81b9ad3"
      },
      "execution_count": null,
      "outputs": [
        {
          "output_type": "stream",
          "name": "stdout",
          "text": [
            "[5 0 4 1 9]\n"
          ]
        }
      ]
    },
    {
      "cell_type": "code",
      "source": [
        "print(\"Classes of the data: \", set(y_train))"
      ],
      "metadata": {
        "colab": {
          "base_uri": "https://localhost:8080/"
        },
        "id": "E6SPZbUONkK5",
        "outputId": "c0bae7a6-f39a-45bd-a872-efac4f745f4d"
      },
      "execution_count": null,
      "outputs": [
        {
          "output_type": "stream",
          "name": "stdout",
          "text": [
            "Classes of the data:  {0, 1, 2, 3, 4, 5, 6, 7, 8, 9}\n"
          ]
        }
      ]
    },
    {
      "cell_type": "markdown",
      "source": [
        "The current label scheme simply identifies the category to which each data point belongs (each handwritten digit is assigned a category equal to the number value). We need to convert this into a **one-hot encoded** vector. In contrast to Binary representation, the labels will be presented in a way that to represent a number N, the  $𝑁𝑡ℎ$  bit is 1 while the the other bits are 0. For example, five and zero in a binary code would be:\n",
        "\n",
        "e.g\n",
        "\n",
        "$target = [1, 2, 3]$\n",
        "\n",
        "with one-hot encoding\n",
        "\n",
        "for the class 1:\n",
        "$target = [1, 0, 0]$\n",
        "\n",
        "for the class 2:\n",
        "$target = [0, 1, 0]$\n",
        "\n",
        "for the class 3:\n",
        "$target = [0, 0, 1]$\n",
        "\n"
      ],
      "metadata": {
        "id": "eQbqeVymNfCX"
      }
    },
    {
      "cell_type": "code",
      "source": [
        "print(\"Categorical labels: \", y_train[:3])\n",
        "\n",
        "y_train = tf.one_hot(y_train, 10)\n",
        "y_test = tf.one_hot(y_test, 10)\n",
        "\n",
        "print(\"One hot encoded labels: \", y_train[:3])"
      ],
      "metadata": {
        "colab": {
          "base_uri": "https://localhost:8080/"
        },
        "id": "AWkRfw5YNXUK",
        "outputId": "2dc89c7c-7943-4f22-a5df-462ceb6e6b18"
      },
      "execution_count": null,
      "outputs": [
        {
          "output_type": "stream",
          "name": "stdout",
          "text": [
            "Categorical labels:  [5 0 4]\n",
            "One hot encoded labels:  tf.Tensor(\n",
            "[[0. 0. 0. 0. 0. 1. 0. 0. 0. 0.]\n",
            " [1. 0. 0. 0. 0. 0. 0. 0. 0. 0.]\n",
            " [0. 0. 0. 0. 1. 0. 0. 0. 0. 0.]], shape=(3, 10), dtype=float32)\n"
          ]
        }
      ]
    },
    {
      "cell_type": "markdown",
      "source": [
        "**Understanding the imported data**\n",
        "\n",
        "The imported data can be divided as follows:\n",
        "\n",
        "* Training: given dataset with inputs and related outputs for training of NN.\n",
        "  * 60,000 data points - x_train for inputs - y_train for outputs/labels\n",
        "\n",
        "* Test: The model does not have access to this information prior to the testing phase. It is used to evaluate the performance and accuracy of the model against \"real life situations\". No further optimization beyond this point.\n",
        "\n",
        "  * 10,000 data points - x_test for inputs - y_test for outputs/labels\n",
        "\n",
        "* Validation data is not used in this example."
      ],
      "metadata": {
        "id": "jLfWEP5OO0GZ"
      }
    },
    {
      "cell_type": "code",
      "source": [
        "print(\"Number of training examples: \", x_train.shape[0])\n",
        "print(\"Number of test examples: \", x_test.shape[0])"
      ],
      "metadata": {
        "colab": {
          "base_uri": "https://localhost:8080/"
        },
        "id": "B6AmjzGgOa1z",
        "outputId": "86846c72-375c-4262-9e90-d21df53f64c2"
      },
      "execution_count": null,
      "outputs": [
        {
          "output_type": "stream",
          "name": "stdout",
          "text": [
            "Number of training examples:  60000\n",
            "Number of test examples:  10000\n"
          ]
        }
      ]
    },
    {
      "cell_type": "markdown",
      "source": [
        "The new Dataset API in TensorFlow 2.X allows you to define batch sizes as part of the dataset. It also has improved I/O characteristics, and is the recommended way of loading data. This allows you to iterate through subsets (batches) of the data during training. This is a common practice that improves performance by computing gradients over smaller batches. We will see this in action during the training step.\n",
        "\n",
        "Additionally, you can shuffle the dataset if you believe that there is a skewed distribution of data in the original dataset that may result in batches with different distributions. We aren't shuffling data here."
      ],
      "metadata": {
        "id": "5CJgzBXrPfeT"
      }
    },
    {
      "cell_type": "code",
      "source": [
        "train_df = tf.data.Dataset.from_tensor_slices((x_train, y_train)).batch(50)\n",
        "test_df = tf.data.Dataset.from_tensor_slices((x_test, y_test)).batch(50)"
      ],
      "metadata": {
        "id": "4At2xgD9PUos"
      },
      "execution_count": null,
      "outputs": []
    },
    {
      "cell_type": "markdown",
      "source": [
        "**Converting a 2D Image into a 1D Vector**\n",
        "\n",
        "MNIST images are black and white thumbnail square images with 28x28 pixels. Each pixel is assigned an intensity (originally on a scale of 0 to 255). To make the input useful to us, we need these to be arranged in a 1D vector using a consistent strategy, as is shown in the figure below. We can use `Flatten` to accomplish this task."
      ],
      "metadata": {
        "id": "Tyoa657_P4C2"
      }
    },
    {
      "cell_type": "markdown",
      "source": [
        "Showing an example of the Flatten class and operation"
      ],
      "metadata": {
        "id": "AWrv9mEIQSJ-"
      }
    },
    {
      "cell_type": "code",
      "source": [
        "from tensorflow.keras.layers import Flatten\n",
        "\n",
        "flatten = Flatten(dtype = \"float32\")\n",
        "\n",
        "print(\"Original data shape: \", x_train.shape)\n",
        "print(\"Flattened shape: \", flatten(x_train).shape)"
      ],
      "metadata": {
        "colab": {
          "base_uri": "https://localhost:8080/"
        },
        "id": "0dHDvnaQPzz5",
        "outputId": "cf689345-fb14-4480-b6ff-68e88848a1de"
      },
      "execution_count": null,
      "outputs": [
        {
          "output_type": "stream",
          "name": "stdout",
          "text": [
            "Original data shape:  (60000, 28, 28)\n",
            "Flattened shape:  (60000, 784)\n"
          ]
        }
      ]
    },
    {
      "cell_type": "markdown",
      "source": [
        "**Assigning bias and weights ti null tensors**\n",
        "\n",
        "Now we are going to create the weights and biases, for this purpose they will be used as arrays filled with zeros. The values that we choose here can be critical, but we'll cover a better way on the second part, instead of this type of initialization. Since these values will be adjusted during the optimization process, we define them using tf.Variable.\n",
        "\n",
        "NOTE: tf.Variable creates adjustable variables that are in the global namespace, so any function that references these variables need not pass the variables. But they are globals, so exercise caution when naming!"
      ],
      "metadata": {
        "id": "EiQSSD9uQzUJ"
      }
    },
    {
      "cell_type": "code",
      "source": [
        "#Weight and Bias tensor\n",
        "W = tf.Variable(tf.zeros([784, 10], tf.float32))\n",
        "b = tf.Variable(tf.zeros([10], tf.float32))"
      ],
      "metadata": {
        "id": "AcxRi58MQl_-"
      },
      "execution_count": null,
      "outputs": []
    },
    {
      "cell_type": "markdown",
      "source": [
        "**Adding weights and Biases to input**\n",
        "\n",
        "The only difference for our next operation to the picture below is that we are using the mathematical convention for what is being executed in the illustration. The tf.matmul operation performs a matrix multiplication between x (inputs) and W (weights) and after the code add biases.\n",
        "\n",
        "<img src=\"https://ibm.box.com/shared/static/88ksiymk1xkb10rgk0jwr3jw814jbfxo.png\" alt=\"HTML5 Icon\" style=\"width:350px\"> "
      ],
      "metadata": {
        "id": "EgjEYQIjRkLL"
      }
    },
    {
      "cell_type": "code",
      "source": [
        "def forward(x):\n",
        "  return tf.matmul(x, W) + b"
      ],
      "metadata": {
        "id": "r-S_xTKdRtWw"
      },
      "execution_count": null,
      "outputs": []
    },
    {
      "cell_type": "markdown",
      "source": [
        "**Softmax Regression**\n",
        "\n",
        "Softmax is an activation function that is normally used in classification problems. It generates the probabilities for the output. For example, our model will not be 100% sure that one digit is the number nine, instead, the answer will be a distribution of probabilities where, if the model is right, the nine number will have a larger probability than the other other digits.\n",
        "\n",
        "Softmax is simply an exponential of each value of a vector that is also normalized:\n",
        "\n",
        "$σ(z_i) = \\frac{e^{Z_i}}{\\sum e^{Z_i}}$"
      ],
      "metadata": {
        "id": "377HpvO2SDff"
      }
    },
    {
      "cell_type": "code",
      "source": [
        "#e.g\n",
        "\n",
        "vector = [10, 0.2, 8]\n",
        "softmax = tf.nn.softmax(vector)\n",
        "\n",
        "print(\"Softmax Calculation: \", softmax.numpy())\n",
        "print(\"Verifying normalization: \", tf.reduce_sum(softmax))\n",
        "print(\"Finding vector with largest value (label assignment)\")\n",
        "print(\"category: \", tf.argmax(softmax).numpy())"
      ],
      "metadata": {
        "colab": {
          "base_uri": "https://localhost:8080/"
        },
        "id": "WDOYwuAiR8MP",
        "outputId": "9c025ca8-a0ba-4010-ab01-461beb42c462"
      },
      "execution_count": null,
      "outputs": [
        {
          "output_type": "stream",
          "name": "stdout",
          "text": [
            "Softmax Calculation:  [8.8075405e-01 4.8839214e-05 1.1919710e-01]\n",
            "Verifying normalization:  tf.Tensor(1.0, shape=(), dtype=float32)\n",
            "Finding vector with largest value (label assignment)\n",
            "category:  0\n"
          ]
        }
      ]
    },
    {
      "cell_type": "code",
      "source": [
        "def activate_function(x):\n",
        "  return tf.nn.softmax(forward(x))"
      ],
      "metadata": {
        "id": "GXR8sElFTaUc"
      },
      "execution_count": null,
      "outputs": []
    },
    {
      "cell_type": "markdown",
      "source": [
        "Logistic function output is used for the classification between two target classes 0/1. Softmax function is generalized type of logistic function. That is, Softmax can output a multiclass categorical probability distribution."
      ],
      "metadata": {
        "id": "E4m1oza4T3yc"
      }
    },
    {
      "cell_type": "code",
      "source": [
        "def model(x):\n",
        "  x = flatten(x)\n",
        "  return activate_function(x)"
      ],
      "metadata": {
        "id": "bp3NvCLiTy3I"
      },
      "execution_count": null,
      "outputs": []
    },
    {
      "cell_type": "markdown",
      "source": [
        "**Cost function**\n",
        "\n",
        "It is a function that is used to minimize the difference between the right answers (labels) and estimated outputs by our Network. Here we use the cross entropy function, which is a popular cost function used for categorical models. The function is defined in terms of probabilities, which is why we must used normalized vectors. It is given as:\n",
        "\n",
        "$CrossEntropy = \\sum y_{label} \\cdot log(y_{prediction})$"
      ],
      "metadata": {
        "id": "mYFhy0IjUEyX"
      }
    },
    {
      "cell_type": "code",
      "source": [
        "def cross_entropy(y_label, y_pred):\n",
        "  return (-tf.reduce_sum(y_label * tf.math.log(y_pred + 1.e-10)))"
      ],
      "metadata": {
        "id": "76ZiqGu0UCoI"
      },
      "execution_count": null,
      "outputs": []
    },
    {
      "cell_type": "code",
      "source": [
        "cross_entropy(y_train, model(x_train)).numpy()"
      ],
      "metadata": {
        "colab": {
          "base_uri": "https://localhost:8080/"
        },
        "id": "EDUlmoT6UuiW",
        "outputId": "83689c6e-6f59-439d-bbca-832513510434"
      },
      "execution_count": null,
      "outputs": [
        {
          "output_type": "execute_result",
          "data": {
            "text/plain": [
              "138155.12"
            ]
          },
          "metadata": {},
          "execution_count": 28
        }
      ]
    },
    {
      "cell_type": "markdown",
      "source": [
        "**Type of optimization: Gradient Descent**\n",
        "\n",
        "This is the part where you configure the optimizer for your Neural Network. There are several optimizers available, in our case we will use **Gradient Descent** because it is a well established optimizer."
      ],
      "metadata": {
        "id": "ZetrcKoTVN-m"
      }
    },
    {
      "cell_type": "code",
      "source": [
        "optimizer = tf.keras.optimizers.SGD(learning_rate=0.25)"
      ],
      "metadata": {
        "id": "EIRxdWBjU0qK"
      },
      "execution_count": null,
      "outputs": []
    },
    {
      "cell_type": "code",
      "source": [
        "def train_step(x, y):\n",
        "  with tf.GradientTape() as tape:\n",
        "    #Loss fucntion\n",
        "    current_loss = cross_entropy(y, model(x))\n",
        "\n",
        "    #Gradient loss\n",
        "    grads = tape.gradient(current_loss, [W, b])\n",
        "\n",
        "    #Apply SGD to W and b\n",
        "    optimizer.apply_gradients(zip(grads, [W, b]))\n",
        "  \n",
        "  return current_loss.numpy()"
      ],
      "metadata": {
        "id": "g00iXTwaVhxg"
      },
      "execution_count": null,
      "outputs": []
    },
    {
      "cell_type": "markdown",
      "source": [
        "**Training batches**\n",
        "\n",
        "In practice, **Batch Gradient Descent** is not often used because is too computationally expensive. The good part about this method is that you have the true gradient, but with the expensive computing task of using the whole dataset in one time. Due to this problem, Neural Networks usually use minibatch to train.\n",
        "\n",
        "We have already divided our full dataset into batches of 50 each using the Datasets API. Now we can iterate through each of those batches to compute a gradient. Once we iterate through all of the batches in the dataset, we complete an epoch, or a full traversal of the dataset."
      ],
      "metadata": {
        "id": "RYqJWOzWWebS"
      }
    },
    {
      "cell_type": "code",
      "source": [
        "W = tf.Variable(tf.zeros([784, 10], tf.float32))\n",
        "b = tf.Variable(tf.zeros([10], tf.float32))\n",
        "\n",
        "loss_values = []\n",
        "accuracies = []\n",
        "epochs = 10\n",
        "\n",
        "for epoch in range(epochs):\n",
        "  batch = 0\n",
        "\n",
        "  #Each batch has 50 examples\n",
        "  \n",
        "  for x_train_batch, y_train_batch in train_df:\n",
        "    batch += 1\n",
        "    current_loss = train_step(x_train_batch, y_train_batch)\n",
        "\n",
        "    if batch % 500 == 0:\n",
        "      print(f\"Epoch: {epoch}, batch: {batch}, loss: {current_loss}\")\n",
        "\n",
        "  #Loss function\n",
        "  current_loss = cross_entropy(y_train, model(x_train)).numpy()\n",
        "  loss_values.append(current_loss)\n",
        "  correct_prediction = tf.equal(tf.argmax(model(x_train), axis = 1),\n",
        "                                tf.argmax(y_train, axis = 1))\n",
        "  \n",
        "  #Accuracy\n",
        "  accuracy = tf.reduce_mean(tf.cast(correct_prediction, tf.float32))\n",
        "  accuracies.append(accuracy)\n",
        "  print(f\"End of epoch: {epoch}, loss: {current_loss}, accuracy: {accuracy}\")"
      ],
      "metadata": {
        "colab": {
          "base_uri": "https://localhost:8080/"
        },
        "id": "-7MCcCeKWKCC",
        "outputId": "94dcd538-c397-44f6-a485-8560e0915dc6"
      },
      "execution_count": null,
      "outputs": [
        {
          "output_type": "stream",
          "name": "stdout",
          "text": [
            "Epoch: 0, batch: 500, loss: 180.309326171875\n",
            "Epoch: 0, batch: 1000, loss: 178.65249633789062\n",
            "End of epoch: 0, loss: 218815.90625, accuracy: 0.8165000081062317\n",
            "Epoch: 1, batch: 500, loss: 154.01815795898438\n",
            "Epoch: 1, batch: 1000, loss: 190.98165893554688\n",
            "End of epoch: 1, loss: 220729.75, accuracy: 0.8202833533287048\n",
            "Epoch: 2, batch: 500, loss: 226.65292358398438\n",
            "Epoch: 2, batch: 1000, loss: 194.4188232421875\n",
            "End of epoch: 2, loss: 217468.5, accuracy: 0.8228166699409485\n",
            "Epoch: 3, batch: 500, loss: 191.99517822265625\n",
            "Epoch: 3, batch: 1000, loss: 163.16287231445312\n",
            "End of epoch: 3, loss: 206837.3125, accuracy: 0.8341000080108643\n",
            "Epoch: 4, batch: 500, loss: 194.0750732421875\n",
            "Epoch: 4, batch: 1000, loss: 207.2076416015625\n",
            "End of epoch: 4, loss: 209424.765625, accuracy: 0.8318833112716675\n",
            "Epoch: 5, batch: 500, loss: 184.16302490234375\n",
            "Epoch: 5, batch: 1000, loss: 167.23434448242188\n",
            "End of epoch: 5, loss: 212392.5, accuracy: 0.82833331823349\n",
            "Epoch: 6, batch: 500, loss: 153.95437622070312\n",
            "Epoch: 6, batch: 1000, loss: 200.68650817871094\n",
            "End of epoch: 6, loss: 205791.6875, accuracy: 0.8353999853134155\n",
            "Epoch: 7, batch: 500, loss: 164.4966583251953\n",
            "Epoch: 7, batch: 1000, loss: 152.14599609375\n",
            "End of epoch: 7, loss: 208815.625, accuracy: 0.8334000110626221\n",
            "Epoch: 8, batch: 500, loss: 192.1616973876953\n",
            "Epoch: 8, batch: 1000, loss: 171.89132690429688\n",
            "End of epoch: 8, loss: 207165.15625, accuracy: 0.8353833556175232\n",
            "Epoch: 9, batch: 500, loss: 171.32803344726562\n",
            "Epoch: 9, batch: 1000, loss: 224.54652404785156\n",
            "End of epoch: 9, loss: 207780.515625, accuracy: 0.8343666791915894\n"
          ]
        }
      ]
    },
    {
      "cell_type": "markdown",
      "source": [
        "**Test and Plots**\n",
        "\n",
        "It is common to run intermittent diagnostics (such as accuracy and loss over entire dataset) during training. Here we compute a summary statistic on the test dataset as well. Fitness metrics for the training data should closely match those of the test data. If the test metrics are distinctly less favorable, this can be a sign of overfitting."
      ],
      "metadata": {
        "id": "IIBgbfHXaMOI"
      }
    },
    {
      "cell_type": "code",
      "source": [
        "correct_prediction_train = tf.equal(tf.argmax(model(x_train), axis = 1), tf.argmax(y_train, axis = 1))\n",
        "accuracy_train = tf.reduce_mean(tf.cast(correct_prediction_train, tf.float32)).numpy()\n",
        "\n",
        "correct_prediction_test = tf.equal(tf.argmax(model(x_test), axis = 1), tf.argmax(y_test, axis = 1))\n",
        "accuracy_test = tf.reduce_mean(tf.cast(correct_prediction_test, tf.float32)).numpy()\n",
        "\n",
        "print(\"Training accuracy: \", accuracy_train)\n",
        "print(\"Test accuracy: \", accuracy_test)"
      ],
      "metadata": {
        "colab": {
          "base_uri": "https://localhost:8080/"
        },
        "id": "GNtCPYhDZnbT",
        "outputId": "5371ff13-f4dc-41ad-aa39-8d51ef06c96c"
      },
      "execution_count": null,
      "outputs": [
        {
          "output_type": "stream",
          "name": "stdout",
          "text": [
            "Training accuracy:  0.8343667\n",
            "Test accuracy:  0.8302\n"
          ]
        }
      ]
    },
    {
      "cell_type": "markdown",
      "source": [
        "The next two plots show the performance of the optimization at each epoch."
      ],
      "metadata": {
        "id": "GVLFVDxHbXQt"
      }
    },
    {
      "cell_type": "code",
      "source": [
        "import matplotlib.pyplot as plt\n",
        "%matplotlib inline\n",
        "plt.rcParams['figure.figsize'] = (10, 6)\n",
        "#print(loss_values)\n",
        "plt.plot(loss_values,'-ro')\n",
        "plt.title(\"loss per epoch\")\n",
        "plt.xlabel(\"epoch\")\n",
        "plt.ylabel(\"loss\")"
      ],
      "metadata": {
        "colab": {
          "base_uri": "https://localhost:8080/",
          "height": 421
        },
        "id": "0CdMN-zXbUlC",
        "outputId": "ad9e9010-b478-453d-b27b-070afb540279"
      },
      "execution_count": null,
      "outputs": [
        {
          "output_type": "execute_result",
          "data": {
            "text/plain": [
              "Text(0, 0.5, 'loss')"
            ]
          },
          "metadata": {},
          "execution_count": 37
        },
        {
          "output_type": "display_data",
          "data": {
            "text/plain": [
              "<Figure size 720x432 with 1 Axes>"
            ],
            "image/png": "[encoded data removed]"
          },
          "metadata": {
            "needs_background": "light"
          }
        }
      ]
    },
    {
      "cell_type": "code",
      "source": [
        "plt.plot(accuracies,'-ro')\n",
        "plt.title(\"accuracy per epoch\")\n",
        "plt.xlabel(\"epoch\")\n",
        "plt.ylabel(\"accuracy\")"
      ],
      "metadata": {
        "colab": {
          "base_uri": "https://localhost:8080/",
          "height": 421
        },
        "id": "Jyeea6UvbZeN",
        "outputId": "9ba42623-6650-4960-e531-bac3eecd0855"
      },
      "execution_count": null,
      "outputs": [
        {
          "output_type": "execute_result",
          "data": {
            "text/plain": [
              "Text(0, 0.5, 'accuracy')"
            ]
          },
          "metadata": {},
          "execution_count": 38
        },
        {
          "output_type": "display_data",
          "data": {
            "text/plain": [
              "<Figure size 720x432 with 1 Axes>"
            ],
            "image/png": "[encoded data removed]"
          },
          "metadata": {
            "needs_background": "light"
          }
        }
      ]
    },
    {
      "cell_type": "markdown",
      "source": [
        "**Evaluating the final result**\n",
        "\n",
        "84% accuracy is not bad considering the simplicity of the model, but >90% accuracy has been achieved in the past.\n",
        "\n",
        "**How to improve our model**\n",
        "\n",
        "* Regularization of Neural Networks using DropConnect\n",
        "* Multi-column Deep Neurla Networks for image classificaiton\n",
        "* APAC: Augmented Pattern Classification with Neural Networks\n",
        "* Simple Deep Neural Network with Dropout\n"
      ],
      "metadata": {
        "id": "o3MWYgEMbh_E"
      }
    },
    {
      "cell_type": "code",
      "source": [
        ""
      ],
      "metadata": {
        "id": "QXDRn4WAddez"
      },
      "execution_count": null,
      "outputs": []
    }
  ]
}