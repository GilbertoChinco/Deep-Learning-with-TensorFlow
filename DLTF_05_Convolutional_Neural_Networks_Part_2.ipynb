{
  "nbformat": 4,
  "nbformat_minor": 0,
  "metadata": {
    "colab": {
      "name": "DLTF_05_Convolutional_Neural_Networks_Part_2.ipynb",
      "provenance": [],
      "collapsed_sections": []
    },
    "kernelspec": {
      "name": "python3",
      "display_name": "Python 3"
    },
    "language_info": {
      "name": "python"
    }
  },
  "cells": [
    {
      "cell_type": "markdown",
      "source": [
        "# Deep learning: Convolutional Neural Networks applied on MNIST\n",
        "\n",
        "6. Deep learning applied on MNIST\n",
        "7. Summary of the deep learning Neural Network\n",
        "8. Define functions and train the model\n",
        "9. Evaluate the model"
      ],
      "metadata": {
        "id": "y443kYB2r70H"
      }
    },
    {
      "cell_type": "markdown",
      "source": [
        "## 6. Deep learning applied on MNIST\n",
        "\n",
        "In the first part, we learned how to use a simple ANN to classify MNIST. Now we are going to expand our knowledge using a Deep Neural Network.\n",
        "\n",
        "Architecture of our network is:\n",
        "\n",
        "*   (Input) -> \\[batch_size, 28, 28, 1]  >> Apply 32 filter of \\[5x5]\n",
        "*   (Convolutional layer 1)  -> \\[batch_size, 28, 28, 32]\n",
        "*   (ReLU 1)  -> \\[?, 28, 28, 32]\n",
        "*   (Max pooling 1) -> \\[?, 14, 14, 32]\n",
        "*   (Convolutional layer 2)  -> \\[?, 14, 14, 64]\n",
        "*   (ReLU 2)  -> \\[?, 14, 14, 64]\n",
        "*   (Max pooling 2)  -> \\[?, 7, 7, 64]\n",
        "*   \\[fully connected layer 3] -> \\[1x1024]\n",
        "*   \\[ReLU 3]  -> \\[1x1024]\n",
        "*   \\[Drop out]  -> \\[1x1024]\n",
        "*   \\[fully connected layer 4] -> \\[1x10]\n",
        "\n",
        "The next cells will explore this new architecture."
      ],
      "metadata": {
        "id": "Lwsmf9JWsIYj"
      }
    },
    {
      "cell_type": "code",
      "execution_count": null,
      "metadata": {
        "id": "3wOqBhFyrwoH"
      },
      "outputs": [],
      "source": [
        "import tensorflow as tf"
      ]
    },
    {
      "cell_type": "code",
      "source": [
        "mnist = tf.keras.datasets.mnist\n",
        "(x_train, y_train), (x_test, y_test) = mnist.load_data()"
      ],
      "metadata": {
        "id": "x-35YRbXtAyS"
      },
      "execution_count": null,
      "outputs": []
    },
    {
      "cell_type": "code",
      "source": [
        "x_train, x_test = x_train / 255.0, x_test / 255.0"
      ],
      "metadata": {
        "id": "R0Lv4CG6tHP_"
      },
      "execution_count": null,
      "outputs": []
    },
    {
      "cell_type": "code",
      "source": [
        "y_train = tf.one_hot(y_train, 10)\n",
        "y_test = tf.one_hot(y_test, 10)"
      ],
      "metadata": {
        "id": "stIbNGh0tP6h"
      },
      "execution_count": null,
      "outputs": []
    },
    {
      "cell_type": "markdown",
      "source": [
        "**Initial parameters**\n",
        "\n",
        "Create general parameters for the model"
      ],
      "metadata": {
        "id": "dCrAj3y2tZRV"
      }
    },
    {
      "cell_type": "code",
      "source": [
        "#Dimension for the image shape\n",
        "width = 28\n",
        "height = 28\n",
        "flat = width * height   #Number of pixel in one image\n",
        "class_output = 10       #Number of labels"
      ],
      "metadata": {
        "id": "D_GPRlSFtSwo"
      },
      "execution_count": null,
      "outputs": []
    },
    {
      "cell_type": "markdown",
      "source": [
        "**Converting images of the data set to tensor**\n",
        "\n",
        "The input image is 28 pixels by 28 pixels, 1 channel (grayscale). In this case, the first dimension is the batch number of the image, and can be of any size (so we set it to -1). The second and third dimensions are width and height, and the last one is the image channels."
      ],
      "metadata": {
        "id": "WbUC60kJt7Y3"
      }
    },
    {
      "cell_type": "code",
      "source": [
        "x_image_train = tf.reshape(x_train, [-1, 28, 28, 1])\n",
        "x_image_train = tf.cast(x_image_train, \"float32\")\n",
        "\n",
        "x_image_test = tf.reshape(x_test, [-1, 28, 28, 1])\n",
        "x_image_test = tf.cast(x_image_test, \"float32\")\n",
        "\n",
        "train_ds = tf.data.Dataset.from_tensor_slices((x_image_train, y_train)).batch(50)\n",
        "test_ds = tf.data.Dataset.from_tensor_slices((x_image_test, y_test)).batch(50)"
      ],
      "metadata": {
        "id": "NpQ6MEEetusT"
      },
      "execution_count": null,
      "outputs": []
    },
    {
      "cell_type": "code",
      "source": [
        "x_image_train = tf.slice(x_image_train, [0, 0, 0, 0], [10000, 28, 28, 1])\n",
        "y_train = tf.slice(y_train, [0, 0], [10000, 10])"
      ],
      "metadata": {
        "id": "QK13Qamju9Un"
      },
      "execution_count": null,
      "outputs": []
    },
    {
      "cell_type": "markdown",
      "source": [
        "### Convolutional Layer 1\n",
        "\n",
        "**Defining kernel weights and bias**\n",
        "\n",
        "We define a kernel here. The Size of the filter/kernel is 5x5; Input channels is 1 (grayscale); and we need 32 different feature maps (here, 32 feature maps means 32 different filters are applied on each image. So, the output of convolution layer would be 28x28x32). In this step, we create a filter / kernel tensor of shape `[filter_height, filter_width, in_channels, out_channels]`"
      ],
      "metadata": {
        "id": "zkJAQL1GvaYk"
      }
    },
    {
      "cell_type": "code",
      "source": [
        "W_conv1 = tf.Variable(tf.random.truncated_normal([5, 5, 1, 32], stddev = 0.1, seed = 0))\n",
        "b_conv1 = tf.Variable(tf.constant(0.1, shape = [32]))"
      ],
      "metadata": {
        "id": "cFOxCyGsvRpi"
      },
      "execution_count": null,
      "outputs": []
    },
    {
      "cell_type": "markdown",
      "source": [
        "<img src=\"https://ibm.box.com/shared/static/vn26neef1nnv2oxn5cb3uueowcawhkgb.png\" style=\"width: 800px; height: 400px;\" alt=\"HTML5 Icon\" >\n",
        "\n",
        "To create convolutional layer, we use `tf.nn.conv2d`. It computes a 2-D convolution given 4-D input and filter tensors.\n",
        "\n",
        "Inputs:\n",
        "\n",
        "*   tensor of shape \\[batch, in_height, in_width, in_channels]. x of shape \\[batch_size,28 ,28, 1]\n",
        "\n",
        "*   a filter / kernel tensor of shape \\[filter_height, filter_width, in_channels, out_channels]. W is of size \\[5, 5, 1, 32]\n",
        "\n",
        "*   stride which is  \\[1, 1, 1, 1]. The convolutional layer, slides the \"kernel window\" across the input tensor. As the input tensor has 4 dimensions:  \\[batch, height, width, channels], then the convolution operates on a 2D window on the height and width dimensions. **strides** determines how much the window shifts by in each of the dimensions. As the first and last dimensions are related to batch and channels, we set the stride to 1. But for second and third dimension, we could set other values, e.g. \\[1, 2, 2, 1]\n",
        "\n",
        "Process:\n",
        "\n",
        "*   Change the filter to a 2-D matrix with shape \\[5\\*5\\*1,32]\n",
        "*   Extracts image patches from the input tensor to form a *virtual* tensor of shape `[batch, 28, 28, 5*5*1]`.\n",
        "*   For each batch, right-multiplies the filter matrix and the image vector.\n",
        "\n",
        "Output:\n",
        "\n",
        "*   A `Tensor` (a 2-D convolution) of size tf.Tensor 'add\\_7:0' shape=(?, 28, 28, 32)- Notice: the output of the first convolution layer is 32 \\[28x28] images. Here 32 is considered as volume/depth of the output image."
      ],
      "metadata": {
        "id": "y_1WA-cowipT"
      }
    },
    {
      "cell_type": "code",
      "source": [
        "def convolve1(x):\n",
        "  return tf.nn.conv2d(x, W_conv1, strides = [1, 1, 1, 1], padding = \"SAME\") + b_conv1"
      ],
      "metadata": {
        "id": "MVJ5HWjywHJf"
      },
      "execution_count": null,
      "outputs": []
    },
    {
      "cell_type": "markdown",
      "source": [
        "<img src=\"https://ibm.box.com/shared/static/iizf4ui4b2hh9wn86pplqxu27ykpqci9.png\" style=\"width: 800px; height: 400px;\" alt=\"HTML5 Icon\" >"
      ],
      "metadata": {
        "id": "4K-TiT5MygQG"
      }
    },
    {
      "cell_type": "markdown",
      "source": [
        "**Apply the ReLU activation function**\n",
        "\n",
        "In this step, we just go through all outputs convolution layer, convolve1, and wherever a negative number occurs, we swap it out for a 0. It is called ReLU activation Function.\n",
        "Let f(x) is a ReLU activation function:\n",
        "\n",
        "$f(x) = max(0, X)$"
      ],
      "metadata": {
        "id": "5a3GOLOZxOA2"
      }
    },
    {
      "cell_type": "code",
      "source": [
        "def act_function_relu(x):\n",
        "  return tf.nn.relu(convolve1(x))"
      ],
      "metadata": {
        "id": "fut36nnuxC-w"
      },
      "execution_count": null,
      "outputs": []
    },
    {
      "cell_type": "markdown",
      "source": [
        "**Aplly the max pooling**\n",
        "\n",
        "max pooling is a form of non-linear down-sampling. It partitions the input image into a set of rectangles and, then find the maximum value for that region.\n",
        "\n",
        "Lets use `tf.nn.max_pool` function to perform max pooling. Kernel size: 2x2 (if the window is a 2x2 matrix, it would result in one output pixel)\\ Strides: dictates the sliding behaviour of the kernel. In this case it will move 2 pixels everytime, thus not overlapping. The input is a matrix of size 28x28x32, and the output would be a matrix of size 14x14x32.\n",
        "\n",
        "<img src=\"https://ibm.box.com/shared/static/kmaja90mn3aud9mro9cn8pbbg1h5pejy.png\" alt=\"HTML5 Icon\" style=\"width: 800px; height: 400px;\"> "
      ],
      "metadata": {
        "id": "vPGSSXdjyBGS"
      }
    },
    {
      "cell_type": "code",
      "source": [
        "def conv1(x):\n",
        "  return tf.nn.max_pool(act_function_relu(x), ksize = [1, 2, 2, 1], strides = [1, 2, 2, 1], padding = \"SAME\")"
      ],
      "metadata": {
        "id": "D7wJXrFQx8HG"
      },
      "execution_count": null,
      "outputs": []
    },
    {
      "cell_type": "markdown",
      "source": [
        "### Convolutional Layer 2\n",
        "\n",
        "**Weights and Biases of Kernels**\n",
        "\n",
        "We apply the convolution again in this layer. Lets look at the second layer kernel:\n",
        "\n",
        "* Filter/kernel: 5x5 (25 pixels)\n",
        "* Input channels: 32 (from the 1st Conv layer, we had 32 feature maps)\n",
        "* 64 output feature maps\n",
        "\n",
        "\n",
        "Notice: here, the input image is [14x14x32], the filter is [5x5x32], we use 64 filters of size [5x5x32], and the output of the convolutional layer would be 64 convolved image, [14x14x64].\n",
        "\n",
        "Notice: the convolution result of applying a filter of size [5x5x32] on image of size [14x14x32] is an image of size [14x14x1], that is, the convolution is functioning on volume."
      ],
      "metadata": {
        "id": "h5VJNvP0zKqv"
      }
    },
    {
      "cell_type": "code",
      "source": [
        "W_conv2 = tf.Variable(tf.random.truncated_normal([5, 5, 32, 64], stddev = 0.1, seed = 0))\n",
        "b_conv2 = tf.Variable(tf.constant(0.1, shape = [64]))"
      ],
      "metadata": {
        "id": "gtY7vbSrzCOa"
      },
      "execution_count": null,
      "outputs": []
    },
    {
      "cell_type": "markdown",
      "source": [
        "Convolve image weight tensor and add biases"
      ],
      "metadata": {
        "id": "__lqjARn0KAk"
      }
    },
    {
      "cell_type": "code",
      "source": [
        "def convolve2(x):\n",
        "  return tf.nn.conv2d(conv1(x), W_conv2, strides = [1, 1, 1, 1], padding = \"SAME\") + b_conv2"
      ],
      "metadata": {
        "id": "r5cA_1GIz-LV"
      },
      "execution_count": null,
      "outputs": []
    },
    {
      "cell_type": "markdown",
      "source": [
        "applt the ReLU activation function"
      ],
      "metadata": {
        "id": "sIYnb5QX0RP-"
      }
    },
    {
      "cell_type": "code",
      "source": [
        "def act_function_relu2(x):\n",
        "  return (tf.nn.relu(convolve2(x)))"
      ],
      "metadata": {
        "id": "XmbwY1Df0RrU"
      },
      "execution_count": null,
      "outputs": []
    },
    {
      "cell_type": "markdown",
      "source": [
        "Apply the max pooling"
      ],
      "metadata": {
        "id": "5qoykCNd0agF"
      }
    },
    {
      "cell_type": "code",
      "source": [
        "def conv2(x):\n",
        "  return tf.nn.max_pool(act_function_relu2(x), ksize = [1, 2, 2, 1], strides = [1, 2, 2, 1], padding = \"SAME\")"
      ],
      "metadata": {
        "id": "1gqxazOI0ZMc"
      },
      "execution_count": null,
      "outputs": []
    },
    {
      "cell_type": "markdown",
      "source": [
        "The output of the second layer it is a 64 matrix of [7x7]"
      ],
      "metadata": {
        "id": "LdElSs4B0noZ"
      }
    },
    {
      "cell_type": "markdown",
      "source": [
        "### Full connected layer\n",
        "\n",
        "You need a fully connected layer to use the Softmax and create the probabilities in the end. Fully connected layers take the high-level filtered images from previous layer, that is all 64 matrices, and convert them to a flat array.\n",
        "\n",
        "So, each matrix [7x7] will be converted to a matrix of [49x1], and then all of the 64 matrix will be connected, which make an array of size [3136x1]. We will connect it into another layer of size [1024x1]. So, the weight between these 2 layers will be [3136x1024]\n",
        "\n",
        "<img src=\"https://ibm.box.com/shared/static/pr9mnirmlrzm2bitf1d4jj389hyvv7ey.png\" alt=\"HTML5 Icon\" style=\"width: 800px; height: 400px;\"> "
      ],
      "metadata": {
        "id": "Sh_quY1Z04Po"
      }
    },
    {
      "cell_type": "markdown",
      "source": [
        "**Flattering Second layer**\n"
      ],
      "metadata": {
        "id": "kH-umVFd1pRC"
      }
    },
    {
      "cell_type": "code",
      "source": [
        "def layer2_matrix(x):\n",
        "  return tf.reshape(conv2(x), [-1, 7 * 7 * 64])"
      ],
      "metadata": {
        "id": "ZwJmHeTC1Tlt"
      },
      "execution_count": null,
      "outputs": []
    },
    {
      "cell_type": "markdown",
      "source": [
        "**Weigths and Biases between lñayer 2 and 3**\n",
        "\n",
        "Composition of the feature map from the last layer (7x7) multiplied by the number of feature maps (64); 1027 outputs to Softmax layer"
      ],
      "metadata": {
        "id": "lMRdwEfp2CLi"
      }
    },
    {
      "cell_type": "code",
      "source": [
        "w_fc1 = tf.Variable(tf.random.truncated_normal([7 * 7 * 64, 1024], stddev = 0.1, seed = 2))\n",
        "b_fc1 = tf.Variable(tf.constant(0.1, shape = [1024]))"
      ],
      "metadata": {
        "id": "ajHgIYeT18Zn"
      },
      "execution_count": null,
      "outputs": []
    },
    {
      "cell_type": "markdown",
      "source": [
        "**Matrix multipplication (applying weightd and biases)**\n"
      ],
      "metadata": {
        "id": "U-PK6ofh2dCn"
      }
    },
    {
      "cell_type": "code",
      "source": [
        "def fc1(x):\n",
        "  return tf.matmul(layer2_matrix(x), w_fc1) + b_fc1"
      ],
      "metadata": {
        "id": "gL_71TGB2a-P"
      },
      "execution_count": null,
      "outputs": []
    },
    {
      "cell_type": "markdown",
      "source": [
        "**Apply the ReLU activation function**\n"
      ],
      "metadata": {
        "id": "ZK1AUcPK2u9E"
      }
    },
    {
      "cell_type": "code",
      "source": [
        "def act_function_relu3(x):\n",
        "  return tf.nn.relu(fc1(x))"
      ],
      "metadata": {
        "id": "Fg-9RVSN2scN"
      },
      "execution_count": null,
      "outputs": []
    },
    {
      "cell_type": "markdown",
      "source": [
        "### Dropout Layer\n",
        "\n",
        "This is an optional phase for reducing overfitting\n",
        "\n",
        "It is a phase where the network \"forget\" some features. At each training step in a mini-batch, some units get switched off randomly so that it will not interact with the network. That is, it weights cannot be updated, nor affect the learning of the other network nodes. This can be very useful for very large neural networks to prevent overfitting."
      ],
      "metadata": {
        "id": "B3nrtEIw2_PG"
      }
    },
    {
      "cell_type": "code",
      "source": [
        "keep_prob = 0.5\n",
        "\n",
        "def layer_drop(x):\n",
        "  return tf.nn.dropout(act_function_relu3(x), keep_prob)"
      ],
      "metadata": {
        "id": "IgPImqDQ28-q"
      },
      "execution_count": null,
      "outputs": []
    },
    {
      "cell_type": "markdown",
      "source": [
        "**Readout Layer (Softmaw Layer)**\n",
        "\n",
        "Type: Softmax, fully connected layer\n",
        "\n",
        "**Weight and biases**\n",
        "\n",
        "In last layer, CNN takes the high-level filtered images and translate them into votes using softmax. Input channels: 1024 (neurons from the 3rd Layer); 10 output features"
      ],
      "metadata": {
        "id": "jRsRHqCy3diM"
      }
    },
    {
      "cell_type": "code",
      "source": [
        "w_fc2 = tf.Variable(tf.random.truncated_normal([1024, 10], stddev = 0.1, seed = 2))\n",
        "b_fc2 = tf.Variable(tf.constant(0.1, shape = [10]))"
      ],
      "metadata": {
        "id": "eTW-X9bN3Y5o"
      },
      "execution_count": null,
      "outputs": []
    },
    {
      "cell_type": "markdown",
      "source": [
        "**Matrix multipplication (applying weightd and biases)**\n"
      ],
      "metadata": {
        "id": "QMSsqUI84G6a"
      }
    },
    {
      "cell_type": "code",
      "source": [
        "def fc2(x):\n",
        "  return tf.matmul(layer_drop(x), w_fc2) + b_fc2"
      ],
      "metadata": {
        "id": "ppmHCJUh4CXV"
      },
      "execution_count": null,
      "outputs": []
    },
    {
      "cell_type": "markdown",
      "source": [
        "**Apply the softmax activation function**"
      ],
      "metadata": {
        "id": "tNp-YX7S4RQ7"
      }
    },
    {
      "cell_type": "code",
      "source": [
        "def y_softmax(x):\n",
        "  return tf.nn.softmax(fc2(x))"
      ],
      "metadata": {
        "id": "vBDq3f5f4QYl"
      },
      "execution_count": null,
      "outputs": []
    },
    {
      "cell_type": "markdown",
      "source": [
        "## 7. Summary of the Deep Convolutional Neural Network\n",
        "\n",
        "* Input - MNIST dataset\n",
        "* Convolutional and Max-pooling\n",
        "* Convolutional and Max-pooling\n",
        "* Fully Connected layer\n",
        "* Processing - Dropout\n",
        "* Readout layer - Fully connected\n",
        "* Outputs - Classified digits"
      ],
      "metadata": {
        "id": "kncI3pNa496W"
      }
    },
    {
      "cell_type": "markdown",
      "source": [
        "## 8. Define functions and train the model"
      ],
      "metadata": {
        "id": "LCTYRXEQ5ufa"
      }
    },
    {
      "cell_type": "markdown",
      "source": [
        "**Define the loss function**\n",
        "\n",
        "We need to compare our output, layer4 tensor, with ground truth for all mini_batch. we can use cross entropy `b` to see how bad our CNN is working - to measure the error at a softmax layer.\n",
        "\n",
        "The following code shows an toy sample of cross-entropy for a mini-batch of size 2 which its items have been classified. You can run it (first change the cell type to code in the toolbar) to see how cross entropy changes."
      ],
      "metadata": {
        "id": "artirUzn6Kyy"
      }
    },
    {
      "cell_type": "code",
      "source": [
        "import numpy as np\n",
        " \n",
        "layer4_test = [[0.9, 0.1, 0.1], [0.9, 0.1, 0.1]]\n",
        "y_test = [[1, 0, 0], [1, 0, 0]]\n",
        "\n",
        "np.mean(-np.sum(y_test * np.log(layer4_test), 1))"
      ],
      "metadata": {
        "colab": {
          "base_uri": "https://localhost:8080/"
        },
        "id": "j7zKMCU85VJh",
        "outputId": "2efce591-2c9e-49f3-e49d-83a326256b61"
      },
      "execution_count": null,
      "outputs": [
        {
          "output_type": "execute_result",
          "data": {
            "text/plain": [
              "0.10536051565782628"
            ]
          },
          "metadata": {},
          "execution_count": 31
        }
      ]
    },
    {
      "cell_type": "markdown",
      "source": [
        "reduce_sum computes the sum of elements of y * tf.log(layer4) across second dimension of the tensor, and reduce_mean computes the mean of all elements in the tensor.\n",
        "\n",
        "$CrossEntropy = \\sum y_{label} \\cdot log(y_{prediction})$"
      ],
      "metadata": {
        "id": "kASVG6Ze68CB"
      }
    },
    {
      "cell_type": "code",
      "source": [
        "def cross_entropy(y_label, y_pred):\n",
        "    return (-tf.reduce_sum(y_label * tf.math.log(y_pred + 1.e-10)))"
      ],
      "metadata": {
        "id": "KhVlMATs62PM"
      },
      "execution_count": null,
      "outputs": []
    },
    {
      "cell_type": "markdown",
      "source": [
        "**Defining the optimizer**\n",
        "\n",
        "It is obvious that we want minimize the error of our network which is calculated by cross_entropy metric. To solve the problem, we have to compute gradients for the loss (which is minimizing the cross-entropy) and apply gradients to variables. It will be done by an optimizer: **GradientDescent** or **Adagrad.**"
      ],
      "metadata": {
        "id": "uUhOokEW7Xon"
      }
    },
    {
      "cell_type": "code",
      "source": [
        "optimizer = tf.keras.optimizers.Adam(1e-4)"
      ],
      "metadata": {
        "id": "I675ucer7WF4"
      },
      "execution_count": null,
      "outputs": []
    },
    {
      "cell_type": "markdown",
      "source": [
        "Following the convention of our first example, we will use **GradientTape** to define a model."
      ],
      "metadata": {
        "id": "CBbCxnMH7lMC"
      }
    },
    {
      "cell_type": "code",
      "source": [
        "variables = [W_conv1, b_conv1, W_conv2, b_conv2, \n",
        "             w_fc1, b_fc1, w_fc2, b_fc2, ]\n",
        "\n",
        "def train_step(x, y):\n",
        "  with tf.GradientTape() as tape:\n",
        "    current_loss = cross_entropy(y, y_softmax(x))\n",
        "    grads = tape.gradient(current_loss, variables)\n",
        "    optimizer.apply_gradients(zip(grads, variables))\n",
        "    return current_loss.numpy()"
      ],
      "metadata": {
        "id": "P4Fni38h7jTa"
      },
      "execution_count": null,
      "outputs": []
    },
    {
      "cell_type": "markdown",
      "source": [
        "**Define prediction**"
      ],
      "metadata": {
        "id": "n9IS91wM8ntY"
      }
    },
    {
      "cell_type": "code",
      "source": [
        "correct_prediction = tf.equal(tf.argmax(y_softmax(x_image_train), axis=1), tf.argmax(y_train, axis=1))"
      ],
      "metadata": {
        "id": "M4if5ijy8WFV"
      },
      "execution_count": null,
      "outputs": []
    },
    {
      "cell_type": "markdown",
      "source": [
        "**Define accuracy**\n",
        "\n"
      ],
      "metadata": {
        "id": "Uh3ZHIUu-5OF"
      }
    },
    {
      "cell_type": "code",
      "source": [
        "accuracy = tf.reduce_mean(tf.cast(correct_prediction, 'float32'))"
      ],
      "metadata": {
        "id": "9hcUMeB9-mxq"
      },
      "execution_count": null,
      "outputs": []
    },
    {
      "cell_type": "markdown",
      "source": [
        "**Run session and train**\n"
      ],
      "metadata": {
        "id": "BklCVio3_ANH"
      }
    },
    {
      "cell_type": "code",
      "source": [
        "loss_values=[]\n",
        "accuracies = []\n",
        "epochs = 1\n",
        "\n",
        "for epoch in range(epochs):\n",
        "    batch = 0\n",
        "    # each batch has 50 examples\n",
        "    for x_train_batch, y_train_batch in train_ds:\n",
        "        batch += 1\n",
        "        current_loss = train_step(x_train_batch, y_train_batch)\n",
        "\n",
        "        if batch % 50 == 0: #reporting intermittent batch statistics\n",
        "            correct_prediction = tf.equal(tf.argmax(y_softmax(x_train_batch), axis=1),\n",
        "                                  tf.argmax(y_train_batch, axis=1))\n",
        "            #  accuracy\n",
        "            accuracy = tf.reduce_mean(tf.cast(correct_prediction, tf.float32)).numpy()\n",
        "            print(\"epoch \", str(epoch), \"batch\", str(batch), \"loss:\", str(current_loss),\n",
        "                     \"accuracy\", str(accuracy)) \n",
        "            \n",
        "    current_loss = cross_entropy( y_train, y_softmax( x_image_train )).numpy()\n",
        "    loss_values.append(current_loss)\n",
        "    correct_prediction = tf.equal(tf.argmax(y_softmax(x_image_train), axis=1),\n",
        "                                  tf.argmax(y_train, axis=1))\n",
        "    #  accuracy\n",
        "    accuracy = tf.reduce_mean(tf.cast(correct_prediction, tf.float32)).numpy()\n",
        "    accuracies.append(accuracy)\n",
        "    print(\"end of epoch \", str(epoch), \"loss\", str(current_loss), \"accuracy\", str(accuracy) ) "
      ],
      "metadata": {
        "colab": {
          "base_uri": "https://localhost:8080/",
          "height": 617
        },
        "id": "s4msH0bq_CJ4",
        "outputId": "5af17708-09a0-4a00-9947-5ca06d1ced1a"
      },
      "execution_count": null,
      "outputs": [
        {
          "output_type": "stream",
          "name": "stdout",
          "text": [
            "epoch  0 batch 50 loss: 141.75606 accuracy 0.32\n",
            "epoch  0 batch 100 loss: 59.031296 accuracy 0.72\n",
            "epoch  0 batch 150 loss: 35.671795 accuracy 0.74\n",
            "epoch  0 batch 200 loss: 35.593155 accuracy 0.82\n",
            "epoch  0 batch 250 loss: 44.849487 accuracy 0.78\n",
            "epoch  0 batch 300 loss: 28.509315 accuracy 0.82\n",
            "epoch  0 batch 350 loss: 31.482727 accuracy 0.84\n",
            "epoch  0 batch 400 loss: 12.52626 accuracy 0.9\n",
            "epoch  0 batch 450 loss: 19.943563 accuracy 0.84\n",
            "epoch  0 batch 500 loss: 11.631872 accuracy 0.92\n",
            "epoch  0 batch 550 loss: 10.699755 accuracy 0.9\n",
            "epoch  0 batch 600 loss: 26.553905 accuracy 0.82\n",
            "epoch  0 batch 650 loss: 20.633434 accuracy 0.76\n",
            "epoch  0 batch 700 loss: 2.7538722 accuracy 0.94\n",
            "epoch  0 batch 750 loss: 23.169407 accuracy 0.86\n",
            "epoch  0 batch 800 loss: 13.845081 accuracy 0.92\n",
            "epoch  0 batch 850 loss: 20.085352 accuracy 0.9\n",
            "epoch  0 batch 900 loss: 13.578524 accuracy 0.92\n",
            "epoch  0 batch 950 loss: 12.643195 accuracy 0.92\n",
            "epoch  0 batch 1000 loss: 17.674732 accuracy 0.94\n",
            "epoch  0 batch 1050 loss: 5.237559 accuracy 0.94\n",
            "epoch  0 batch 1100 loss: 16.77515 accuracy 0.88\n",
            "epoch  0 batch 1150 loss: 9.247859 accuracy 0.94\n",
            "epoch  0 batch 1200 loss: 6.359898 accuracy 0.98\n"
          ]
        },
        {
          "output_type": "error",
          "ename": "NameError",
          "evalue": "ignored",
          "traceback": [
            "\u001b[0;31m---------------------------------------------------------------------------\u001b[0m",
            "\u001b[0;31mNameError\u001b[0m                                 Traceback (most recent call last)",
            "\u001b[0;32m<ipython-input-66-0dbdca3c89eb>\u001b[0m in \u001b[0;36m<module>\u001b[0;34m()\u001b[0m\n\u001b[1;32m     25\u001b[0m     \u001b[0maccuracy\u001b[0m \u001b[0;34m=\u001b[0m \u001b[0mtf\u001b[0m\u001b[0;34m.\u001b[0m\u001b[0mreduce_mean\u001b[0m\u001b[0;34m(\u001b[0m\u001b[0mtf\u001b[0m\u001b[0;34m.\u001b[0m\u001b[0mcast\u001b[0m\u001b[0;34m(\u001b[0m\u001b[0mcorrect_prediction\u001b[0m\u001b[0;34m,\u001b[0m \u001b[0mtf\u001b[0m\u001b[0;34m.\u001b[0m\u001b[0mfloat32\u001b[0m\u001b[0;34m)\u001b[0m\u001b[0;34m)\u001b[0m\u001b[0;34m.\u001b[0m\u001b[0mnumpy\u001b[0m\u001b[0;34m(\u001b[0m\u001b[0;34m)\u001b[0m\u001b[0;34m\u001b[0m\u001b[0;34m\u001b[0m\u001b[0m\n\u001b[1;32m     26\u001b[0m     \u001b[0maccuracies\u001b[0m\u001b[0;34m.\u001b[0m\u001b[0mappend\u001b[0m\u001b[0;34m(\u001b[0m\u001b[0maccuracy\u001b[0m\u001b[0;34m)\u001b[0m\u001b[0;34m\u001b[0m\u001b[0;34m\u001b[0m\u001b[0m\n\u001b[0;32m---> 27\u001b[0;31m     \u001b[0mprint\u001b[0m\u001b[0;34m(\u001b[0m\u001b[0;34m\"end of epoch \"\u001b[0m\u001b[0;34m,\u001b[0m \u001b[0mstr\u001b[0m\u001b[0;34m(\u001b[0m\u001b[0mi\u001b[0m\u001b[0;34m)\u001b[0m\u001b[0;34m,\u001b[0m \u001b[0;34m\"loss\"\u001b[0m\u001b[0;34m,\u001b[0m \u001b[0mstr\u001b[0m\u001b[0;34m(\u001b[0m\u001b[0mcurrent_loss\u001b[0m\u001b[0;34m)\u001b[0m\u001b[0;34m,\u001b[0m \u001b[0;34m\"accuracy\"\u001b[0m\u001b[0;34m,\u001b[0m \u001b[0mstr\u001b[0m\u001b[0;34m(\u001b[0m\u001b[0maccuracy\u001b[0m\u001b[0;34m)\u001b[0m \u001b[0;34m)\u001b[0m\u001b[0;34m\u001b[0m\u001b[0;34m\u001b[0m\u001b[0m\n\u001b[0m",
            "\u001b[0;31mNameError\u001b[0m: name 'i' is not defined"
          ]
        }
      ]
    },
    {
      "cell_type": "markdown",
      "source": [
        "**Evualuate the model**\n",
        "\n"
      ],
      "metadata": {
        "id": "vVABQzgRCJVU"
      }
    },
    {
      "cell_type": "code",
      "source": [
        "batch = 0\n",
        "acccuracies=[]\n",
        "# evaluate accuracy by batch and average...reporting every 100th batch\n",
        "for x_train_batch, y_train_batch in train_ds:\n",
        "        batch += 1\n",
        "        correct_prediction = tf.equal(tf.argmax(y_softmax(x_train_batch), axis=1),\n",
        "                                  tf.argmax(y_train_batch, axis=1))\n",
        "        accuracy = tf.reduce_mean(tf.cast(correct_prediction, tf.float32)).numpy()\n",
        "        accuracies.append(accuracy)\n",
        "        if batch % 100 == 0:\n",
        "            print(\"batch\", str(batch), \"accuracy\", str(accuracy)) \n",
        "\n",
        "print(\"accuracy of entire set\", str(np.mean(accuracies))) "
      ],
      "metadata": {
        "colab": {
          "base_uri": "https://localhost:8080/"
        },
        "id": "A0hmj0TbCNFG",
        "outputId": "880af736-90bf-48e9-f142-e0ec704b42e8"
      },
      "execution_count": null,
      "outputs": [
        {
          "output_type": "stream",
          "name": "stdout",
          "text": [
            "batch 100 accuracy 0.96\n",
            "batch 200 accuracy 1.0\n",
            "batch 300 accuracy 0.94\n",
            "batch 400 accuracy 0.98\n",
            "batch 500 accuracy 0.9\n",
            "batch 600 accuracy 0.96\n",
            "batch 700 accuracy 0.96\n",
            "batch 800 accuracy 0.9\n",
            "batch 900 accuracy 0.92\n",
            "batch 1000 accuracy 0.9\n",
            "batch 1100 accuracy 0.96\n",
            "batch 1200 accuracy 0.98\n",
            "accuracy of entire set 0.9401684\n"
          ]
        }
      ]
    },
    {
      "cell_type": "markdown",
      "source": [
        "**Visualization**"
      ],
      "metadata": {
        "id": "LFO-NpxuCSp4"
      }
    },
    {
      "cell_type": "markdown",
      "source": [
        "do you want to look all the filters?"
      ],
      "metadata": {
        "id": "5dkmezv0HKXd"
      }
    },
    {
      "cell_type": "code",
      "source": [
        "kernels = tf.reshape(tf.transpose(W_conv1, perm=[2, 3, 0,1]),[32, -1])"
      ],
      "metadata": {
        "id": "alCkUlfGCVdH"
      },
      "execution_count": null,
      "outputs": []
    },
    {
      "cell_type": "code",
      "source": [
        "!wget --output-document utils1.py https://cf-courses-data.s3.us.cloud-object-storage.appdomain.cloud/IBMDeveloperSkillsNetwork-DL0120EN-SkillsNetwork/labs/Week2/data/utils.py\n"
      ],
      "metadata": {
        "colab": {
          "base_uri": "https://localhost:8080/"
        },
        "id": "_8XHwgusFS1d",
        "outputId": "a6165ef0-3f6e-42bb-cecf-9a0664bf8088"
      },
      "execution_count": null,
      "outputs": [
        {
          "output_type": "stream",
          "name": "stdout",
          "text": [
            "--2022-04-17 06:01:46--  https://cf-courses-data.s3.us.cloud-object-storage.appdomain.cloud/IBMDeveloperSkillsNetwork-DL0120EN-SkillsNetwork/labs/Week2/data/utils.py\n",
            "Resolving cf-courses-data.s3.us.cloud-object-storage.appdomain.cloud (cf-courses-data.s3.us.cloud-object-storage.appdomain.cloud)... 169.63.118.104\n",
            "Connecting to cf-courses-data.s3.us.cloud-object-storage.appdomain.cloud (cf-courses-data.s3.us.cloud-object-storage.appdomain.cloud)|169.63.118.104|:443... connected.\n",
            "HTTP request sent, awaiting response... 200 OK\n",
            "Length: 5097 (5.0K) [text/x-python]\n",
            "Saving to: ‘utils1.py’\n",
            "\n",
            "utils1.py           100%[===================>]   4.98K  --.-KB/s    in 0s      \n",
            "\n",
            "2022-04-17 06:01:46 (489 MB/s) - ‘utils1.py’ saved [5097/5097]\n",
            "\n"
          ]
        }
      ]
    },
    {
      "cell_type": "code",
      "source": [
        "import utils1\n",
        "import imp\n",
        "imp.reload(utils1)\n",
        "from utils1 import tile_raster_images\n",
        "import matplotlib.pyplot as plt\n",
        "from PIL import Image\n",
        "%matplotlib inline"
      ],
      "metadata": {
        "id": "XYvhJ0jpCXaG"
      },
      "execution_count": null,
      "outputs": []
    },
    {
      "cell_type": "code",
      "source": [
        "image = Image.fromarray(tile_raster_images(kernels.numpy(), img_shape=(5, 5) ,tile_shape=(4, 8), tile_spacing=(1, 1)))\n",
        "### Plot image\n",
        "plt.rcParams['figure.figsize'] = (18.0, 18.0)\n",
        "imgplot = plt.imshow(image)\n",
        "imgplot.set_cmap('gray')  "
      ],
      "metadata": {
        "colab": {
          "base_uri": "https://localhost:8080/",
          "height": 539
        },
        "id": "o7AQ7xa-FZzq",
        "outputId": "d3e55f4a-6e18-4b6e-9963-3aa3186ace6a"
      },
      "execution_count": null,
      "outputs": [
        {
          "output_type": "display_data",
          "data": {
            "text/plain": [
              "<Figure size 1296x1296 with 1 Axes>"
            ],
            "image/png": "[encoded data removed]"
          },
          "metadata": {
            "needs_background": "light"
          }
        }
      ]
    },
    {
      "cell_type": "markdown",
      "source": [
        "Do you want to see the output of an image passing through first convolution layer?"
      ],
      "metadata": {
        "id": "AhQNvB7zCbzz"
      }
    },
    {
      "cell_type": "code",
      "source": [
        "plt.rcParams['figure.figsize'] = (5.0, 5.0)\n",
        "sampleimage = [x_image_train[0]]\n",
        "plt.imshow(np.reshape(sampleimage,[28,28]), cmap=\"gray\")"
      ],
      "metadata": {
        "colab": {
          "base_uri": "https://localhost:8080/",
          "height": 337
        },
        "id": "N55LAxoHCcMT",
        "outputId": "41aec14c-7135-4c46-e276-1bdc595b621f"
      },
      "execution_count": null,
      "outputs": [
        {
          "output_type": "execute_result",
          "data": {
            "text/plain": [
              "<matplotlib.image.AxesImage at 0x7fee52178350>"
            ]
          },
          "metadata": {},
          "execution_count": 76
        },
        {
          "output_type": "display_data",
          "data": {
            "text/plain": [
              "<Figure size 360x360 with 1 Axes>"
            ],
            "image/png": "[encoded data removed]"
          },
          "metadata": {
            "needs_background": "light"
          }
        }
      ]
    },
    {
      "cell_type": "code",
      "source": [
        ""
      ],
      "metadata": {
        "id": "fBmcQTL3Hu7R"
      },
      "execution_count": null,
      "outputs": []
    }
  ]
}