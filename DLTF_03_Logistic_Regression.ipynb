{
  "nbformat": 4,
  "nbformat_minor": 0,
  "metadata": {
    "colab": {
      "name": "DLTF_03_Logistic_Regression.ipynb",
      "provenance": [],
      "collapsed_sections": [
        "MYjvZf8KmbcZ"
      ]
    },
    "kernelspec": {
      "name": "python3",
      "display_name": "Python 3"
    },
    "language_info": {
      "name": "python"
    }
  },
  "cells": [
    {
      "cell_type": "markdown",
      "source": [
        "# Logistic Regression with TensorFlow\n",
        "\n",
        "1. What is different between Linear and LogisticRegression\n",
        "2. Utilizing Logistice Regerssion with TensorFlow\n",
        "3. Training the model\n",
        "\n"
      ],
      "metadata": {
        "id": "tdBn66B7mJyw"
      }
    },
    {
      "cell_type": "markdown",
      "source": [
        "### 1. What is the difference between Linear and Logistic Regression\n",
        "\n",
        "While Linear Regression is suited for estimating continuous values (e.g. estimating house price), it is not the best tool for predicting the class in which an observed data point belongs. In order to provide estimate for classification, we need some sort of guidance on what would be the most probable class for that data point. For this, we use Logistic Regression.\n",
        "\n",
        "Logistic Regression is a variation of Linear Regression, useful when the observed dependent variable, y, is categorical. It produces a formula that predicts the probability of the class label as a function of the independent variables.\n",
        "\n",
        "Despite the name logistic regression, it is actually a probabilistic classification model. Logistic regression fits a special s-shaped curve by taking the linear regression and transforming the numeric estimate into a probability with the following function:\n",
        "\n",
        "$ProbabilityofaClass = θ(y) = \\frac{e^y}{1+e^y} = exp(y)$\n",
        "\n",
        "which produces p-values between 0 (as y approaches minus infinity  −∞ ) and 1 (as y approaches plus infinity  +∞ ). This now becomes a special kind of non-linear regression.\n",
        "\n",
        "In this equation, $y$ is the regression result (the sum of the variables weighted by the coefficients), $exp$ is the exponential function and  $𝜃(𝑦)$  is the logistic function, also called logistic curve. It is a common \"S\" shape (sigmoid curve), and was first developed for modeling population growth.\n",
        "\n",
        "You might also have seen this function before, in another configuration:\n",
        "\n",
        "$Probability of a class = θ(y) = \\frac{1}{1 + e^{-y}}$\n",
        "\n",
        "So, briefly, Logistic Regression passes the input through the logistic/sigmoid function but then treats the result as a probability:\n",
        "\n",
        "<img src=\"https://ibm.box.com/shared/static/kgv9alcghmjcv97op4d6onkyxevk23b1.png\" width=\"400\" align=\"center\">"
      ],
      "metadata": {
        "id": "MYjvZf8KmbcZ"
      }
    },
    {
      "cell_type": "markdown",
      "source": [
        "### 2. Utilizing Logistic Regression in TensorFlow"
      ],
      "metadata": {
        "id": "b9bVWah-nskx"
      }
    },
    {
      "cell_type": "markdown",
      "source": [
        "Let's import the required libraries"
      ],
      "metadata": {
        "id": "5CFeFvx8n0AG"
      }
    },
    {
      "cell_type": "code",
      "execution_count": null,
      "metadata": {
        "id": "a3PNtZ1QkyPS"
      },
      "outputs": [],
      "source": [
        "import tensorflow as tf\n",
        "import pandas as pd\n",
        "import numpy as np\n",
        "import time\n",
        "from sklearn.datasets import load_iris\n",
        "from sklearn.model_selection import train_test_split\n",
        "import matplotlib.pyplot as plt"
      ]
    },
    {
      "cell_type": "markdown",
      "source": [
        "**Understanding the dataset**\n",
        "\n",
        "**Attributes Independent variable**\n",
        "* Petal length\n",
        "* Petal width\n",
        "* sepal length\n",
        "* sepal width\n",
        "\n",
        "**Dependent variable**\n",
        "* Species = {iris setosa, iris virginica, iris versicolor}"
      ],
      "metadata": {
        "id": "peOV60o6oCdF"
      }
    },
    {
      "cell_type": "code",
      "source": [
        "iris = load_iris()\n",
        "x_iris, y_iris = iris.data[:-1, :], iris.target[:-1]\n",
        "y_iris = pd.get_dummies(y_iris).values\n",
        "x_train, x_test, y_train, y_test = train_test_split(x_iris, y_iris, test_size = 0.3, random_state = 42)"
      ],
      "metadata": {
        "id": "ZyesbeFNn5pZ"
      },
      "execution_count": null,
      "outputs": []
    },
    {
      "cell_type": "markdown",
      "source": [
        "Now we define x and y. These variables will hold our iris data (both the features and label matrices) We also need to give them shapes which correspond to the shape of our data."
      ],
      "metadata": {
        "id": "da4oO2MYpGso"
      }
    },
    {
      "cell_type": "code",
      "source": [
        "num_features = x_train.shape[1]\n",
        "num_labels = y_train.shape[1]\n",
        "print(\"The number of features: \", num_features)\n",
        "print(\"The number of classes: \", num_labels)"
      ],
      "metadata": {
        "colab": {
          "base_uri": "https://localhost:8080/"
        },
        "id": "7Ko-2SRtoiNS",
        "outputId": "49427f8b-8c7d-4391-e3ed-f4c90d20854b"
      },
      "execution_count": null,
      "outputs": [
        {
          "output_type": "stream",
          "name": "stdout",
          "text": [
            "The number of features:  4\n",
            "The number of classes:  3\n"
          ]
        }
      ]
    },
    {
      "cell_type": "code",
      "source": [
        "x_train = tf.constant(x_train, dtype = \"float32\")\n",
        "y_train = tf.constant(y_train, dtype = \"float32\")\n",
        "x_test = tf.constant(x_test, dtype = \"float32\")\n",
        "y_test = tf.constant(y_test, dtype = \"float32\")"
      ],
      "metadata": {
        "id": "-I_DcW4bpqIz"
      },
      "execution_count": null,
      "outputs": []
    },
    {
      "cell_type": "markdown",
      "source": [
        "**Set model wiights and bias**\n",
        "\n",
        "Much like Linear Regression, we need a shared variable weight matrix for Logistic Regression. We initialize both `W `and `b` as tensors full of zeros. Since we are going to learn `W` and `b`, their initial value does not matter too much. These variables are the objects which define the structure of our regression model, and we can save them after they have been trained so we can reuse them later.\n",
        "\n",
        "We define two TensorFlow variables as our parameters. These variables will hold the weights and biases of our logistic regression and they will be continually updated during training.\n",
        "\n",
        "Notice that `W` has a shape of `[4, 3]` because we want to multiply the 4-dimensional input vectors by it to produce 3-dimensional vectors of evidence for the difference classes. `b` has a shape of `[3]` so we can add it to the output. TensorFlow variables need to be initialized with values, e.g. with zeros."
      ],
      "metadata": {
        "id": "zmztaCHIqfS5"
      }
    },
    {
      "cell_type": "code",
      "source": [
        "W = tf.Variable(tf.zeros([4, 3]))\n",
        "b = tf.Variable(tf.zeros([3]))"
      ],
      "metadata": {
        "id": "khQ2c5s_qdfx"
      },
      "execution_count": null,
      "outputs": []
    },
    {
      "cell_type": "markdown",
      "source": [
        "Randomly sample from a normal distribution with standard deviation .01\n"
      ],
      "metadata": {
        "id": "8r73hCBorsPJ"
      }
    },
    {
      "cell_type": "code",
      "source": [
        "weights = tf.Variable(tf.random.normal([num_features, num_labels], \n",
        "                                       mean = 0, \n",
        "                                       stddev = 0.01,\n",
        "                                       name = \"weigths\"), dtype = \"float32\")\n",
        "\n",
        "bias = tf.Variable(tf.random.normal([1, num_labels], \n",
        "                                       mean = 0, \n",
        "                                       stddev = 0.01,\n",
        "                                       name = \"bias\"), dtype = \"float32\")"
      ],
      "metadata": {
        "id": "PQ64FxRlrLY2"
      },
      "execution_count": null,
      "outputs": []
    },
    {
      "cell_type": "markdown",
      "source": [
        "#### Logistic Regrerssion model\n",
        "\n",
        "We now define our operations in order to properly run the Logistic Regression. Logistic regression is typically thought of as a single equation:\n",
        "\n",
        "$\\hat{y} = sigmoid(WX + b)$\n",
        "\n",
        "However, for the sake of clarity, we can have it broken into its three main components:\n",
        "* a weight times features matrix multiplication operation,\n",
        "* a summation of the weighted features and a bias term,\n",
        "* and finally the application of a sigmoid function.\n"
      ],
      "metadata": {
        "id": "Vl62MKUDr3bQ"
      }
    },
    {
      "cell_type": "code",
      "source": [
        "def h_logistic_regression(x):\n",
        "  apply_weights_OP = tf.matmul(x, weights, name = \"apply_weights\")\n",
        "  add_bias_OP = tf.add(apply_weights_OP, bias, name = \"add_bias\")\n",
        "  activation_OP = tf.nn.sigmoid(add_bias_OP, name = \"activation\")\n",
        "  return activation_OP"
      ],
      "metadata": {
        "id": "Ce9rTiAur1q_"
      },
      "execution_count": null,
      "outputs": []
    },
    {
      "cell_type": "markdown",
      "source": [
        "#### Training\n",
        "\n",
        "The learning algorithm is how we search for the best weight vector ( 𝐰 ). This search is an optimization problem looking for the hypothesis that optimizes an error/cost measure\n",
        "\n",
        "**Cost function**\n",
        "\n",
        "Before defining our cost function, we need to define how long we are going to train and how should we define the learning rate."
      ],
      "metadata": {
        "id": "LCRJ8V0ms_K4"
      }
    },
    {
      "cell_type": "code",
      "source": [
        "num_epochs = 700\n",
        "learning_rate = tf.keras.optimizers.schedules.ExponentialDecay(initial_learning_rate = 0.0008, \n",
        "                                                               decay_steps = x_train.shape[0], \n",
        "                                                               decay_rate = 0.95, \n",
        "                                                               staircase = True)\n"
      ],
      "metadata": {
        "id": "SdSDgTZVsxMK"
      },
      "execution_count": null,
      "outputs": []
    },
    {
      "cell_type": "markdown",
      "source": [
        "What is the cost function in our model?\n",
        "The cost function we are going to **utilize is the Squared Mean Error loss function**.\n",
        "\n",
        "How to minimize the cost function?\n",
        "We can't use least-squares linear regression here, so we will **use gradient descent instead**. Specifically, we will use batch gradient descent which calculates the gradient from all data points in the data set."
      ],
      "metadata": {
        "id": "fFZoRMqltr7g"
      }
    },
    {
      "cell_type": "markdown",
      "source": [
        "Defining the cost function - squared mean error"
      ],
      "metadata": {
        "id": "vnt_3ZzNuIqY"
      }
    },
    {
      "cell_type": "code",
      "source": [
        "loss_object =tf.keras.losses.MeanSquaredLogarithmicError()\n",
        "optimizer = tf.keras.optimizers.SGD(learning_rate)"
      ],
      "metadata": {
        "id": "sPXNadmGtkfq"
      },
      "execution_count": null,
      "outputs": []
    },
    {
      "cell_type": "markdown",
      "source": [
        "We also want some additional operations to keep track of our model's efficiency over time. We can do this like so:"
      ],
      "metadata": {
        "id": "wLmoCiIzuSxM"
      }
    },
    {
      "cell_type": "code",
      "source": [
        "def accuracy(y_pred, y_true):\n",
        "  \"\"\"\"\n",
        "  Predicted class is the index of the highest score in prediction vector (i.e. argmax)\n",
        "  \"\"\"\n",
        "  correct_prediction = tf.equal(tf.argmax(y_pred, 1), tf.argmax(y_true, 1))\n",
        "  return tf.reduce_mean(tf.cast(correct_prediction, tf.float32))"
      ],
      "metadata": {
        "id": "NzL27Fd0uE5e"
      },
      "execution_count": null,
      "outputs": []
    },
    {
      "cell_type": "markdown",
      "source": [
        "We first wrap computation inside a GradientTape for automatic differentiation. Then we compute gradients and update W and b."
      ],
      "metadata": {
        "id": "KXKp1QPrv0C3"
      }
    },
    {
      "cell_type": "code",
      "source": [
        "def run_optimization(x, y):\n",
        "  with tf.GradientTape() as GT:\n",
        "    prediction = h_logistic_regression(x)\n",
        "    loss = loss_object(prediction, y)\n",
        "  gradients = GT.gradient(loss, [weights, bias])\n",
        "  optimizer.apply_gradients(zip(gradients, [weights, bias]))"
      ],
      "metadata": {
        "id": "bWLqrO7Nv10r"
      },
      "execution_count": null,
      "outputs": []
    },
    {
      "cell_type": "markdown",
      "source": [
        "with the operations involved in the prediction phase (i.e. the logistic regression itself).\n",
        "\n",
        "Now we can define and run the actual training loop, like this:"
      ],
      "metadata": {
        "id": "gaCeMn60u5Z1"
      }
    },
    {
      "cell_type": "code",
      "source": [
        "display_step = 10\n",
        "epoch_values = []\n",
        "accuracy_values = []\n",
        "loss_values = []\n",
        "loss = 1\n",
        "diff = 1\n",
        "\n",
        "for epoch in range(num_epochs):\n",
        "  if epoch > 1 and diff < 0.0001:\n",
        "    print(f\"change in loss {diff}; convergence.\")\n",
        "    break\n",
        "    \n",
        "  else:\n",
        "    #Training step\n",
        "    run_optimization(x_train, y_train)\n",
        "\n",
        "    #Report occasional stats\n",
        "    if epoch % display_step == 0:\n",
        "      epoch_values.append(epoch)\n",
        "\n",
        "      pred = h_logistic_regression(x_test)\n",
        "      new_loss = loss_object(pred, y_test)\n",
        "      loss_values.append(new_loss)\n",
        "\n",
        "      acc = accuracy(pred, y_test)\n",
        "      accuracy_values.append(acc)\n",
        "\n",
        "      diff = abs(new_loss - loss)\n",
        "      loss = new_loss\n",
        "\n",
        "      print(f\"step: {epoch}, training accuracy: {acc}, loss: {new_loss}, change in loss: {diff}\")\n",
        "\n",
        "print(\"Final accuracy on test set: \", acc.numpy())"
      ],
      "metadata": {
        "colab": {
          "base_uri": "https://localhost:8080/"
        },
        "id": "vQ90Ew7auyIH",
        "outputId": "e0ab3b22-1c3f-4fb4-f04c-d533f76e5763"
      },
      "execution_count": null,
      "outputs": [
        {
          "output_type": "stream",
          "name": "stdout",
          "text": [
            "step: 0, training accuracy: 0.2888889014720917, loss: 0.10832977294921875, change in loss: 0.8916702270507812\n",
            "step: 10, training accuracy: 0.2888889014720917, loss: 0.10829265415668488, change in loss: 3.711879253387451e-05\n",
            "change in loss 3.711879253387451e-05; convergence.\n",
            "Final accuracy on test set:  0.2888889\n"
          ]
        }
      ]
    },
    {
      "cell_type": "code",
      "source": [
        "plt.plot(loss_values)\n",
        "plt.xlabel(\"Epoch\")\n",
        "plt.ylabel(\"Loss\")\n",
        "plt.show()"
      ],
      "metadata": {
        "colab": {
          "base_uri": "https://localhost:8080/",
          "height": 279
        },
        "id": "lEy_nnPszRxb",
        "outputId": "f40a6864-cb18-45fb-abc7-c0f57bbe3c9c"
      },
      "execution_count": null,
      "outputs": [
        {
          "output_type": "display_data",
          "data": {
            "text/plain": [
              "<Figure size 432x288 with 1 Axes>"
            ],
            "image/png": "[encoded data removed]"
          },
          "metadata": {
            "needs_background": "light"
          }
        }
      ]
    },
    {
      "cell_type": "code",
      "source": [
        ""
      ],
      "metadata": {
        "id": "JNaueUIvzt1N"
      },
      "execution_count": null,
      "outputs": []
    }
  ]
}