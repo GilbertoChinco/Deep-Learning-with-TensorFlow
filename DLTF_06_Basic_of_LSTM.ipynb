{
  "nbformat": 4,
  "nbformat_minor": 0,
  "metadata": {
    "colab": {
      "name": "DLTF_06_Basic_of_LSTM.ipynb",
      "provenance": [],
      "collapsed_sections": []
    },
    "kernelspec": {
      "name": "python3",
      "display_name": "Python 3"
    },
    "language_info": {
      "name": "python"
    }
  },
  "cells": [
    {
      "cell_type": "markdown",
      "source": [
        "# Recurrent Networks in Deep Learning\n",
        "\n",
        "1. Introduction\n",
        "2. Long Short-Term Memory model\n",
        "3. LSTM\n",
        "4. Stacked LSTM"
      ],
      "metadata": {
        "id": "Wk3XkVrNOnqu"
      }
    },
    {
      "cell_type": "markdown",
      "source": [
        "### 1. Introduction\n",
        "\n",
        "Recurrent Neural Networks are Deep Learning models with simple structures and a feedback mechanism built-in, or in different words, the output of a layer is added to the next input and fed back to the same layer.\n",
        "\n",
        "The Recurrent Neural Network is a specialized type of Neural Network that solves the issue of maintaining context for Sequential data -- such as Weather data, Stocks, Genes, etc. At each iterative step, the processing unit takes in an input and the current state of the network, and produces an output and a new state that is re-fed into the network.\n",
        "\n",
        "\n",
        "<img src=\"https://ibm.box.com/shared/static/v7p90neiaqghmpwawpiecmz9n7080m59.png\">\n",
        "\n",
        "However, this model has some problems. It's very computationally expensive to maintain the state for a large amount of units, even more so over a long amount of time. Additionally, Recurrent Networks are very sensitive to changes in their parameters. As such, they are prone to different problems with their Gradient Descent optimizer -- they either grow exponentially (Exploding Gradient) or drop down to near zero and stabilize (Vanishing Gradient), both problems that greatly harm a model's learning capability.\n",
        "\n",
        "To solve these problems, Hochreiter and Schmidhuber published a paper in 1997 describing a way to keep information over long periods of time and additionally solve the oversensitivity to parameter changes, i.e., make backpropagating through the Recurrent Networks more viable. This proposed method is called Long Short-Term Memory (LSTM)."
      ],
      "metadata": {
        "id": "-CSk6czyQomy"
      }
    },
    {
      "cell_type": "markdown",
      "source": [
        "### 2. Long Short Term Memory Model\n",
        "\n",
        "The Long Short-Term Memory, as it was called, was an abstraction of how computer memory works. It is \"bundled\" with whatever processing unit is implemented in the Recurrent Network, although outside of its flow, and is responsible for keeping, reading, and outputting information for the model. \n",
        "\n",
        "The way it works is simple: you have a linear unit, which is the information cell itself, surrounded by three logistic gates responsible for maintaining the data. One gate is for inputting data into the information cell, one is for outputting data from the input cell, and the last one is to keep or forget data depending on the needs of the network.\n",
        "\n",
        "Thanks to that, it not only solves the problem of keeping states, because the network can choose to forget data whenever information is not needed, it also solves the gradient problems, since the Logistic Gates have a very nice derivative.\n",
        "\n",
        "**Long short-Term Memory architecture**\n",
        "\n",
        "The Long Short-Term Memory is composed of a linear unit surrounded by three logistic gates. The name for these gates vary from place to place, but the most usual names for them are:\n",
        "\n",
        "* the \"Input\" or \"Write\" Gate, which handles the writing of data into the information cell\n",
        "* the \"Output\" or \"Read\" Gate, which handles the sending of data back onto the Recurrent Network\n",
        "* the \"Keep\" or \"Forget\" Gate, which handles the maintaining and modification of the data stored in the information cell\n",
        "\n",
        "<img src=\"https://ibm.box.com/shared/static/zx10duv5egw0baw6gh2hzsgr8ex45gsg.png\" width=\"720\"/>\n",
        "\n",
        "The three gates are the centerpiece of the LSTM unit. The gates, when activated by the network, perform their respective functions. For example, the Input Gate will write whatever data it is passed into the information cell, the Output Gate will return whatever data is in the information cell, and the Keep Gate will maintain the data in the information cell. These gates are analog and multiplicative, and as such, can modify the data based on the signal they are sent.\n",
        "\n",
        "\n",
        "For example, an usual flow of operations for the LSTM unit is as such: First off, the Keep Gate has to decide whether to keep or forget the data currently stored in memory. It receives both the input and the state of the Recurrent Network, and passes it through its Sigmoid activation. If  $𝐾_t$  has value of 1 means that the LSTM unit should keep the data stored perfectly and if  $𝐾_t$   a value of 0 means that it should forget it entirely. Consider  $S_{t-1}$   as the incoming (previous) state,  $𝑥_𝑡$  as the incoming input, and  $W_k$ , $B_k$  as the weight and bias for the Keep Gate. Additionally, consider  $Old_{t-1}$  as the data previously in memory. What happens can be summarized by this equation:\n",
        "\n",
        "$k_t = σ (W_k × [S_{t-1}, x_t] + B_k)$\n",
        "\n",
        "$New_t = I_t \\times C_t$\n",
        "\n",
        "$New_t$  is the new data to be input into the memory cell. This is then added to whatever value is still stored in memory.\n",
        "\n",
        "$Cell_t = Old_t + New_t$\n",
        "\n",
        "We now have the candidate data which is to be kept in the memory cell. The conjunction of the Keep and Input gates work in an analog manner, making it so that it is possible to keep part of the old data and add only part of the new data. Consider however, what would happen if the Forget Gate was set to 0 and the Input Gate was set to 1:\n",
        "\n",
        "$Old_t = 0 \\times Old_{t-1}$\n",
        "\n",
        "$New_t = 1 \\times C_t$\n",
        "\n",
        "$Cell_t = C_t$\n",
        "\n",
        "The old data would be totally forgotten and the new data would overwrite it completely.\n",
        "The Output Gate functions in a similar manner. To decide what we should output, we take the input data and state and pass it through a Sigmoid function as usual. The contents of our memory cell, however, are pushed onto a **Tanh function** to bind them between a value of -1 to 1. Consider  $W_0$  and  $B_0$  as the weight and bias for the Output Gate.\n",
        "\n",
        "$O_t = σ (W_o × [S_{t-1}, x_t] + B_o)$\n",
        "\n",
        "$Output_t = O_t \\times tanh(Cell_t)$\n",
        "\n",
        "And that  $Output_t$  is what is output into the Recurrent Network.\n",
        "\n",
        "\n",
        "As mentioned many times, all three gates are **logistic**. The reason for this is because it is very easy to backpropagate through them, and as such, it is possible for the model to learn exactly _how_ it is supposed to use this structure. This is one of the reasons for which LSTM is a very strong structure. Additionally, this solves the gradient problems by being able to manipulate values through the gates themselves -- by passing the inputs and outputs through the gates, we have now a easily derivable function modifying our inputs.\n",
        "\n",
        "In regards to the problem of storing many states over a long period of time, LSTM handles this perfectly by only keeping whatever information is necessary and forgetting it whenever it is not needed anymore. Therefore, LSTMs are a very elegant solution to both problems."
      ],
      "metadata": {
        "id": "KMLZQqP6Sp8z"
      }
    },
    {
      "cell_type": "markdown",
      "source": [
        "### 3. LSTM\n",
        "\n",
        "Lets first create a tiny LSTM network sample to understand the architecture of LSTM networks.\n",
        "We need to import the necessary modules for our code. We need `numpy` and `tensorflow`, obviously. Additionally, we can import directly the `tensorflow.contrib.rnn` model, which includes the function for building RNNs."
      ],
      "metadata": {
        "id": "gZBpPaiHWbaf"
      }
    },
    {
      "cell_type": "code",
      "source": [
        "import numpy as np\n",
        "import tensorflow as tf"
      ],
      "metadata": {
        "id": "hTg01fOKWYBz"
      },
      "execution_count": null,
      "outputs": []
    },
    {
      "cell_type": "code",
      "source": [
        "import tensorflow.compat.v1 as tf\n",
        "sess = tf.Session()"
      ],
      "metadata": {
        "id": "b-9TWxndQg7z"
      },
      "execution_count": null,
      "outputs": []
    },
    {
      "cell_type": "markdown",
      "source": [
        "We want to create a network that has only one LSTM cell. We have to pass 2 elements to LSTM, the `prv_output` (**previous output**) and `prv_state` (**previous state**), so called, **h** and **c**. Therefore, we initialize a state vector, state. Here, state is a tuple with 2 elements, each one is of size [1 x 4], one for passing prv_output to next time step, and another for passing the prv_state to next time stamp.\n",
        "\n",
        "Output size (dimension), which is same as hidden size in the cell"
      ],
      "metadata": {
        "id": "KR5PHoYmZUji"
      }
    },
    {
      "cell_type": "code",
      "source": [
        "LSTM_CELL_SIZE = 4 \n",
        "\n",
        "lstm_cell = tf.compat.v1.nn.rnn_cell.BasicLSTMCell(LSTM_CELL_SIZE, state_is_tuple = True)\n",
        "state = (tf.zeros([1, LSTM_CELL_SIZE]), ) * 2\n",
        "state"
      ],
      "metadata": {
        "id": "uyP1LEOZbKSj",
        "colab": {
          "base_uri": "https://localhost:8080/"
        },
        "outputId": "5d28c31d-46b0-4e17-d4c6-c807b8a8c8d2"
      },
      "execution_count": null,
      "outputs": [
        {
          "output_type": "stream",
          "name": "stderr",
          "text": [
            "/usr/local/lib/python3.7/dist-packages/ipykernel_launcher.py:3: UserWarning: `tf.nn.rnn_cell.BasicLSTMCell` is deprecated and will be removed in a future version. This class is equivalent as `tf.keras.layers.LSTMCell`, and will be replaced by that in Tensorflow 2.0.\n",
            "  This is separate from the ipykernel package so we can avoid doing imports until\n"
          ]
        },
        {
          "output_type": "execute_result",
          "data": {
            "text/plain": [
              "(<tf.Tensor 'zeros_7:0' shape=(1, 4) dtype=float32>,\n",
              " <tf.Tensor 'zeros_7:0' shape=(1, 4) dtype=float32>)"
            ]
          },
          "metadata": {},
          "execution_count": 24
        }
      ]
    },
    {
      "cell_type": "markdown",
      "source": [
        "Let define a sample input. In this example, batch_size = 1, and seq_len = 6:"
      ],
      "metadata": {
        "id": "lrpHm2EYZ01T"
      }
    },
    {
      "cell_type": "code",
      "source": [
        "sample_input = tf.constant([[3, 2, 2, 2, 2, 2]], dtype = tf.float32)\n",
        "print(sess.run(sample_input))"
      ],
      "metadata": {
        "id": "oQJMTNoXZx98",
        "colab": {
          "base_uri": "https://localhost:8080/"
        },
        "outputId": "ba12e7dc-b679-41fb-8e7a-029ad17ff302"
      },
      "execution_count": null,
      "outputs": [
        {
          "output_type": "stream",
          "name": "stdout",
          "text": [
            "[[3. 2. 2. 2. 2. 2.]]\n"
          ]
        }
      ]
    },
    {
      "cell_type": "markdown",
      "source": [
        "Now, we can pass the input to lstm_cell, and check the new state:"
      ],
      "metadata": {
        "id": "bqojv5sFZ7Zi"
      }
    },
    {
      "cell_type": "code",
      "source": [
        "with tf.variable_scope(\"LSTM_sample1\"):\n",
        "    output, state_new = lstm_cell(sample_input, state)\n",
        "\n",
        "sess.run(tf.global_variables_initializer())\n",
        "print(sess.run(state_new))"
      ],
      "metadata": {
        "id": "z2K0cgvwZ7xA",
        "colab": {
          "base_uri": "https://localhost:8080/"
        },
        "outputId": "96c3ba55-eada-4397-80a2-8b07375b78cb"
      },
      "execution_count": null,
      "outputs": [
        {
          "output_type": "stream",
          "name": "stdout",
          "text": [
            "LSTMStateTuple(c=array([[ 0.40205398, -0.07994743, -0.14456598, -0.09809282]],\n",
            "      dtype=float32), h=array([[ 0.11147372, -0.06176465, -0.09219049, -0.00961837]],\n",
            "      dtype=float32))\n"
          ]
        }
      ]
    },
    {
      "cell_type": "markdown",
      "source": [
        "As we can see, the states has 2 parts, the new state c, and also the output h. Lets check the output again:"
      ],
      "metadata": {
        "id": "MNbb4vCoZ-uI"
      }
    },
    {
      "cell_type": "code",
      "source": [
        "print(sess.run(output))"
      ],
      "metadata": {
        "id": "yrjFpljlZ_Gg",
        "colab": {
          "base_uri": "https://localhost:8080/"
        },
        "outputId": "8ca1e4c3-ca19-499b-ad74-07925e051f04"
      },
      "execution_count": null,
      "outputs": [
        {
          "output_type": "stream",
          "name": "stdout",
          "text": [
            "[[ 0.11147372 -0.06176465 -0.09219049 -0.00961837]]\n"
          ]
        }
      ]
    },
    {
      "cell_type": "markdown",
      "source": [
        "### 4. Stacked LSTM\n",
        "\n",
        "What about if we want to have a RNN with stacked LSTM? For example, a 2-layer LSTM. In this case, the output of the first layer will become the input of the second.\n",
        "Lets start with a new session:"
      ],
      "metadata": {
        "id": "MMNeJ0B1bcMO"
      }
    },
    {
      "cell_type": "code",
      "source": [
        "sess = tf.Session()"
      ],
      "metadata": {
        "id": "_4DbNL1OcecJ"
      },
      "execution_count": null,
      "outputs": []
    },
    {
      "cell_type": "code",
      "source": [
        "input_dim = 6"
      ],
      "metadata": {
        "id": "3kPluo33ckZh"
      },
      "execution_count": null,
      "outputs": []
    },
    {
      "cell_type": "markdown",
      "source": [
        "Lets create the stacked LSTM cell:"
      ],
      "metadata": {
        "id": "BoBLFesqcs5e"
      }
    },
    {
      "cell_type": "code",
      "source": [
        "cells = []"
      ],
      "metadata": {
        "id": "5Ep7HEY8ctLS"
      },
      "execution_count": null,
      "outputs": []
    },
    {
      "cell_type": "markdown",
      "source": [
        "Creating the first layer LTSM cell."
      ],
      "metadata": {
        "id": "9K_asNh9cv5t"
      }
    },
    {
      "cell_type": "code",
      "source": [
        "LSTM_CELL_SIZE_1 = 4    #Hidden nodes\n",
        "cell1 = tf.keras.layers.LSTMCell(LSTM_CELL_SIZE_1)\n",
        "cells.append(cell1)"
      ],
      "metadata": {
        "id": "u8I3PcelcwQI"
      },
      "execution_count": null,
      "outputs": []
    },
    {
      "cell_type": "markdown",
      "source": [
        "Creating the second layer LTSM cell."
      ],
      "metadata": {
        "id": "VDsa6Vz7czHZ"
      }
    },
    {
      "cell_type": "code",
      "source": [
        "LSTM_CELL_SIZE_2 = 5  \n",
        "cell2 = tf.keras.layers.LSTMCell(LSTM_CELL_SIZE_2)\n",
        "cells.append(cell2)"
      ],
      "metadata": {
        "id": "o4258mPhczeQ"
      },
      "execution_count": null,
      "outputs": []
    },
    {
      "cell_type": "markdown",
      "source": [
        "To create a multi-layer LTSM we use the `tf.keras.layers.StackedRNNCells` function, it takes in multiple single layer LTSM cells to create a multilayer stacked LTSM model."
      ],
      "metadata": {
        "id": "6QMJOggAc25N"
      }
    },
    {
      "cell_type": "code",
      "source": [
        "stacked_lstm = tf.keras.layers.StackedRNNCells(cells)"
      ],
      "metadata": {
        "id": "7ZbSCMRIc3W5"
      },
      "execution_count": null,
      "outputs": []
    },
    {
      "cell_type": "markdown",
      "source": [
        "Now we can create the RNN from stacked_lstm:"
      ],
      "metadata": {
        "id": "-n95tUOjc8ng"
      }
    },
    {
      "cell_type": "code",
      "source": [
        "# Batch size x time steps x features.\n",
        "data = tf.placeholder(tf.float32, [None, None, input_dim])\n",
        "output, state = tf.nn.dynamic_rnn(stacked_lstm, data, dtype=tf.float32)"
      ],
      "metadata": {
        "id": "AN2bcGJtc88S"
      },
      "execution_count": null,
      "outputs": []
    },
    {
      "cell_type": "markdown",
      "source": [
        "Lets say the input sequence length is 3, and the dimensionality of the inputs is 6. The input should be a Tensor of shape: [batch_size, max_time, dimension], in our case it would be (2, 3, 6)"
      ],
      "metadata": {
        "id": "ZmcT_rS-c_3E"
      }
    },
    {
      "cell_type": "code",
      "source": [
        "#Batch size x time steps x features.\n",
        "sample_input = [[[1, 2, 3, 4, 3, 2], [1, 2, 1, 1, 1, 2], [1, 2, 2, 2, 2, 2]], \n",
        "                [[1, 2, 3, 4, 3, 2], [3, 2, 2, 1, 1, 2], [0, 0, 0, 0, 3, 2]]]\n",
        "sample_input"
      ],
      "metadata": {
        "id": "YCM2ro3PdBzj",
        "colab": {
          "base_uri": "https://localhost:8080/"
        },
        "outputId": "fb289ef0-fedb-4ed3-f7a5-edf290e0cd06"
      },
      "execution_count": null,
      "outputs": [
        {
          "output_type": "execute_result",
          "data": {
            "text/plain": [
              "[[[1, 2, 3, 4, 3, 2], [1, 2, 1, 1, 1, 2], [1, 2, 2, 2, 2, 2]],\n",
              " [[1, 2, 3, 4, 3, 2], [3, 2, 2, 1, 1, 2], [0, 0, 0, 0, 3, 2]]]"
            ]
          },
          "metadata": {},
          "execution_count": 49
        }
      ]
    },
    {
      "cell_type": "markdown",
      "source": [
        "we can now send our input to network, and check the output:"
      ],
      "metadata": {
        "id": "7kvcBEb3dEG4"
      }
    },
    {
      "cell_type": "code",
      "source": [
        "output"
      ],
      "metadata": {
        "id": "ovmeAhhPdFeN",
        "colab": {
          "base_uri": "https://localhost:8080/"
        },
        "outputId": "00982f67-7cf0-466a-f034-b1b8841c7903"
      },
      "execution_count": null,
      "outputs": [
        {
          "output_type": "execute_result",
          "data": {
            "text/plain": [
              "<tf.Tensor 'rnn_2/transpose_1:0' shape=(?, ?, 4) dtype=float32>"
            ]
          },
          "metadata": {},
          "execution_count": 50
        }
      ]
    },
    {
      "cell_type": "code",
      "source": [
        "sess.run(tf.global_variables_initializer())\n",
        "sess.run(output, feed_dict={data: sample_input})"
      ],
      "metadata": {
        "id": "Xo6vQB0UdF9_",
        "colab": {
          "base_uri": "https://localhost:8080/"
        },
        "outputId": "1af9cec7-35b4-41d4-c980-cfa16d40703b"
      },
      "execution_count": null,
      "outputs": [
        {
          "output_type": "execute_result",
          "data": {
            "text/plain": [
              "array([[[ 1.4933215e-05, -2.8891234e-05, -2.5757893e-06, -1.3985584e-05],\n",
              "        [ 6.5648273e-05, -1.1769182e-04,  1.1511142e-05, -8.3084160e-05],\n",
              "        [ 1.8718845e-04, -3.3438808e-04,  4.1369731e-05, -2.4487087e-04]],\n",
              "\n",
              "       [[ 1.4933215e-05, -2.8891234e-05, -2.5757893e-06, -1.3985584e-05],\n",
              "        [ 9.4816744e-05, -1.7333034e-04, -3.4586723e-05, -5.4052216e-05],\n",
              "        [ 2.2284915e-04, -4.2620383e-04, -8.8944653e-05, -1.3436386e-04]]],\n",
              "      dtype=float32)"
            ]
          },
          "metadata": {},
          "execution_count": 51
        }
      ]
    },
    {
      "cell_type": "markdown",
      "source": [
        "As you see, the output is of shape (2, 3, 5), which corresponds to our 2 batches, 3 elements in our sequence, and the dimensionality of the output which is 5."
      ],
      "metadata": {
        "id": "H-ZDFnkMdIVE"
      }
    }
  ]
}